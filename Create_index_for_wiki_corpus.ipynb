{
 "cells": [
  {
   "cell_type": "code",
   "execution_count": 1,
   "metadata": {},
   "outputs": [],
   "source": [
    "import os\n",
    "from whoosh.index import create_in\n",
    "from whoosh.fields import *\n",
    "import sys\n",
    "from tqdm import tqdm_notebook as tqdm\n",
    "from whoosh.analysis import StemmingAnalyzer\n",
    "from whoosh.qparser import QueryParser\n",
    "import time"
   ]
  },
  {
   "cell_type": "markdown",
   "metadata": {},
   "source": [
    "# Create the Schema and Build the sckeleton of index"
   ]
  },
  {
   "cell_type": "code",
   "execution_count": 2,
   "metadata": {},
   "outputs": [],
   "source": [
    "schema = Schema(page_id=TEXT(stored=True), \n",
    "                sentence_num=TEXT(stored=True), \n",
    "                #shard_num=NUMERIC(stored=True),\n",
    "                content=TEXT,\n",
    "                textdata=TEXT(stored=True))"
   ]
  },
  {
   "cell_type": "code",
   "execution_count": 3,
   "metadata": {},
   "outputs": [],
   "source": [
    "import shutil"
   ]
  },
  {
   "cell_type": "code",
   "execution_count": 5,
   "metadata": {},
   "outputs": [],
   "source": [
    "folder_path = \"indexdir\"\n",
    "if os.path.exists(folder_path):\n",
    "    shutil.rmtree(folder_path, ignore_errors=False, onerror=None)\n",
    "os.mkdir(folder_path)\n",
    "ix = create_in(folder_path, schema=schema)"
   ]
  },
  {
   "cell_type": "code",
   "execution_count": 6,
   "metadata": {},
   "outputs": [],
   "source": [
    "writer = ix.writer()"
   ]
  },
  {
   "cell_type": "markdown",
   "metadata": {},
   "source": [
    "# Read the files and Write the documents to the Schema"
   ]
  },
  {
   "cell_type": "code",
   "execution_count": 7,
   "metadata": {},
   "outputs": [],
   "source": [
    "from zipfile import ZipFile"
   ]
  },
  {
   "cell_type": "code",
   "execution_count": 8,
   "metadata": {},
   "outputs": [],
   "source": [
    "zf = ZipFile(\"../wiki-pages-text.zip\")"
   ]
  },
  {
   "cell_type": "code",
   "execution_count": 9,
   "metadata": {},
   "outputs": [
    {
     "data": {
      "text/plain": [
       "110"
      ]
     },
     "execution_count": 9,
     "metadata": {},
     "output_type": "execute_result"
    }
   ],
   "source": [
    "files = [item.filename for item in zf.filelist]\n",
    "len(files)"
   ]
  },
  {
   "cell_type": "code",
   "execution_count": 10,
   "metadata": {},
   "outputs": [],
   "source": [
    "#fp = zf.open(files[1], mode='r')"
   ]
  },
  {
   "cell_type": "code",
   "execution_count": null,
   "metadata": {},
   "outputs": [
    {
     "name": "stdout",
     "output_type": "stream",
     "text": [
      "wiki-pages-text/wiki-009.txt\n",
      "wiki-pages-text/wiki-021.txt\n",
      "wiki-pages-text/wiki-035.txt\n"
     ]
    }
   ],
   "source": [
    "%%time\n",
    "\n",
    "for path in files[1:]:\n",
    "    print(path)\n",
    "    fp = zf.open(path, mode='r')\n",
    "    for line in fp.readlines():\n",
    "        line_list = str(line.strip()).split(\" \")\n",
    "        page_id = line_list.pop(0)\n",
    "        sentence_id = line_list[0]\n",
    "        if sentence_id.isnumeric():\n",
    "            sentence_id = line_list.pop(0)\n",
    "        else:\n",
    "            sentence_id = \"UNKNOWN\"\n",
    "        sentence = \" \".join(line_list)\n",
    "\n",
    "        # Now we add each of the documents\n",
    "        writer.add_document(page_id=page_id, sentence_num=sentence_id,\n",
    "                            content=sentence,textdata=sentence)\n",
    "    fp.close()\n",
    "writer.commit()"
   ]
  },
  {
   "cell_type": "code",
   "execution_count": null,
   "metadata": {},
   "outputs": [],
   "source": []
  },
  {
   "cell_type": "code",
   "execution_count": null,
   "metadata": {},
   "outputs": [],
   "source": []
  },
  {
   "cell_type": "code",
   "execution_count": null,
   "metadata": {},
   "outputs": [],
   "source": []
  },
  {
   "cell_type": "code",
   "execution_count": null,
   "metadata": {},
   "outputs": [],
   "source": []
  },
  {
   "cell_type": "code",
   "execution_count": 5,
   "metadata": {},
   "outputs": [],
   "source": [
    "path = \"/Users/hima95/Downloads/wiki-pages-text/wiki-001.txt\"\n",
    "fp = open(path,'r')\n",
    "text = fp.readlines()\n",
    "shard = \"001\""
   ]
  },
  {
   "cell_type": "code",
   "execution_count": 6,
   "metadata": {},
   "outputs": [
    {
     "data": {
      "application/vnd.jupyter.widget-view+json": {
       "model_id": "bb31e67117004e89b0828269b4dcd98a",
       "version_major": 2,
       "version_minor": 0
      },
      "text/plain": [
       "HBox(children=(IntProgress(value=0, max=170548), HTML(value='')))"
      ]
     },
     "metadata": {},
     "output_type": "display_data"
    },
    {
     "name": "stdout",
     "output_type": "stream",
     "text": [
      "\n",
      "CPU times: user 4min 22s, sys: 44.8 s, total: 5min 7s\n",
      "Wall time: 5min 12s\n"
     ]
    }
   ],
   "source": [
    "start = time.time()\n",
    "with tqdm(total=len(text)) as pbar:\n",
    "    for line in text:\n",
    "        #print(line.split(\" \")[0],line.split(\" \")[1])\n",
    "        line_list = line.split(\" \")\n",
    "        page_id = line_list.pop(0)\n",
    "        sentence_id = line_list[0]\n",
    "        if sentence_id.isnumeric():\n",
    "            sentence_id = line_list.pop(0)\n",
    "        else:\n",
    "            sentence_id = \"UNKNOWN\"\n",
    "        sentence = \" \".join(line_list)\n",
    "        sentence = sentence.replace(\"\\n\",\"\")\n",
    "\n",
    "        # Now we add each of the documents\n",
    "        writer.add_document(page_id=page_id, sentence_num=sentence_id,shard_num=shard, \\\n",
    "                            content=sentence,textdata=sentence)\n",
    "        pbar.update(1)\n",
    "fp.close()\n",
    "writer.commit()\n",
    "print(\"TIME:\", time.time() - start)"
   ]
  },
  {
   "cell_type": "markdown",
   "metadata": {},
   "source": [
    "# Load Stored Index and Run the Query"
   ]
  },
  {
   "cell_type": "code",
   "execution_count": 7,
   "metadata": {},
   "outputs": [],
   "source": [
    "# Creating Search Index from stored index"
   ]
  },
  {
   "cell_type": "code",
   "execution_count": 7,
   "metadata": {},
   "outputs": [],
   "source": [
    "from whoosh.qparser import QueryParser\n",
    "from whoosh import scoring\n",
    "from whoosh.index import open_dir"
   ]
  },
  {
   "cell_type": "code",
   "execution_count": 8,
   "metadata": {},
   "outputs": [],
   "source": [
    "ix2 = open_dir(\"indexdir\")"
   ]
  },
  {
   "cell_type": "code",
   "execution_count": 9,
   "metadata": {},
   "outputs": [],
   "source": [
    "# query_str is query string\n",
    "query_str = \"Fiesta Bowl was played in Sun Devil Stadium \"\n",
    "# Top 'n' documents as result\n",
    "topN = int(5)"
   ]
  },
  {
   "cell_type": "code",
   "execution_count": 10,
   "metadata": {},
   "outputs": [
    {
     "name": "stdout",
     "output_type": "stream",
     "text": [
      "Page_ID: 1986_Fiesta_Bowl Score: 8.0 Sentence ID: 0 \n",
      " The 1986 Sunkist Fiesta Bowl was a college football bowl game played on January 1 , 1986 , at Sun Devil Stadium in Tempe , Arizona . \n",
      "\n",
      "Page_ID: 1999_Fiesta_Bowl Score: 7.0 Sentence ID: 0 \n",
      " The 1999 Fiesta Bowl , the designated BCS National Championship Game for the 1998 season , was played on January 4 , 1999 , in Tempe , Arizona at Sun Devil Stadium . \n",
      "\n",
      "Page_ID: 1987_Fiesta_Bowl Score: 7.0 Sentence ID: 1 \n",
      " The game was the 16th edition of the Fiesta Bowl , played annually since 1971 at Sun Devil Stadium in Tempe , Arizona . \n",
      "\n"
     ]
    }
   ],
   "source": [
    "with ix2.searcher(weighting=scoring.Frequency) as searcher:\n",
    "    query = QueryParser(\"content\", ix2.schema).parse(query_str)\n",
    "    results = searcher.search(query,limit=topN)\n",
    "    for i in range(topN):\n",
    "        if i == len(results):\n",
    "            break\n",
    "        print(\"Page_ID:\",results[i]['page_id'],\n",
    "              \"Score:\",str(results[i].score),\n",
    "              \"Sentence ID:\",str(results[i][\"sentence_num\"]),\"\\n\",results[i]['textdata'],\"\\n\")"
   ]
  },
  {
   "cell_type": "code",
   "execution_count": null,
   "metadata": {},
   "outputs": [],
   "source": []
  }
 ],
 "metadata": {
  "hide_input": false,
  "kernelspec": {
   "display_name": "Python 3",
   "language": "python",
   "name": "python3"
  },
  "language_info": {
   "codemirror_mode": {
    "name": "ipython",
    "version": 3
   },
   "file_extension": ".py",
   "mimetype": "text/x-python",
   "name": "python",
   "nbconvert_exporter": "python",
   "pygments_lexer": "ipython3",
   "version": "3.6.4"
  },
  "toc": {
   "nav_menu": {},
   "number_sections": true,
   "sideBar": true,
   "skip_h1_title": false,
   "toc_cell": false,
   "toc_position": {},
   "toc_section_display": true,
   "toc_window_display": false
  }
 },
 "nbformat": 4,
 "nbformat_minor": 2
}
