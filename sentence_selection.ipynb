{
 "cells": [
  {
   "cell_type": "code",
   "execution_count": 32,
   "metadata": {},
   "outputs": [],
   "source": [
    "import warnings\n",
    "warnings.filterwarnings('ignore')\n",
    "\n",
    "import random\n",
    "import numpy as np\n",
    "import pandas as pd"
   ]
  },
  {
   "cell_type": "markdown",
   "metadata": {},
   "source": [
    "# This part is to Prepare the Senetence Selection Data Set Using the Samplling Method Mentioned in the report\n",
    "No need to run this it is just for demonstration purpose it requires running another notebook"
   ]
  },
  {
   "cell_type": "code",
   "execution_count": null,
   "metadata": {},
   "outputs": [],
   "source": [
    "def extract_final_text_from_line(line):\n",
    "    # use this function to extarct the text from a line in data-file\n",
    "    #try:\n",
    "    line_list =line.split(\" \")\n",
    "    page_id = line_list.pop(0)\n",
    "    page_name = \" \".join(page_id.split(\"_\"))\n",
    "    sentence_id = 12345\n",
    "    if not line_list:\n",
    "        return \" \"\n",
    "    if line_list[0].isnumeric():\n",
    "        sentence_id = line_list.pop(0)\n",
    "    line = \" \".join(line_list)\n",
    "    return line\n",
    "\n",
    "test = pd.read_csv(\"search_results_v5_test.csv\")\n",
    "\n",
    "# define the required top-k\n",
    "k = 13\n",
    "mask = (test[\"rank\"] <= k)\n",
    "test = test[mask]\n",
    "\n",
    "test.head()\n",
    "\n",
    "file = 'train_gold_retrived.json'\n",
    "with open(file) as train_file:\n",
    "    dev_d = json.load(train_file)\n",
    "\n",
    "from tqdm import tqdm\n",
    "\n",
    "\n",
    "\n",
    "final_d = {}\n",
    "for key,item in tqdm(dev_d.items()):\n",
    "    if item[\"evidence\"]:\n",
    "        final_d[key] = {}\n",
    "        final_d[key][\"claim\"] = item[\"claim\"]\n",
    "        gold = set([extract_final_text_from_line(i).strip() for i in item[\"gold_evidence\"]])\n",
    "        results = set(dev[dev[\"claim_id\"] ==int(key)].text.tolist())\n",
    "        gold_retrived = results.intersection(gold)\n",
    "        wrong_rem = results.difference(gold_retrived)\n",
    "        final_d[key][\"gold_retrived\"] = list(gold_retrived)\n",
    "        final_d[key][\"wrong_remained\"] = list(wrong_rem)\n",
    "\n",
    "with open('dev_train_sentence.json',\"w\") as train_file:\n",
    "    json.dump(final_d, train_file,indent=0)\n",
    "\n",
    "label_d = []\n",
    "for key, item in final_d.items():\n",
    "    if item[\"gold_retrived\"]:\n",
    "        gold = item[\"gold_retrived\"]\n",
    "        wrn = item[\"wrong_remained\"]\n",
    "        for i in gold:\n",
    "            label_d.append(dict(label=1,claim=item[\"claim\"],evidence=i))\n",
    "        for j in wrn:\n",
    "            label_d.append(dict(label=0,claim=item[\"claim\"],evidence=j))\n",
    "        \n",
    "\n",
    "final_df = pd.DataFrame(label_d)\n",
    "label_counts = list(final_df.label.value_counts())\n",
    "print(\" The 1's:\",\" \",label_counts[1],\"\\n\",\"The 0's:\",\" \",label_counts[0], \"\\n\",\n",
    "     \"The Probability of index returing a Gold:\",(label_counts[1]/(label_counts[1]+label_counts[0])) )\n",
    "\n",
    "final_df.to_csv(\"dev_top13_train.csv\".format(k),index=False)\n",
    "\n",
    "\n",
    "\n",
    "\n"
   ]
  },
  {
   "cell_type": "code",
   "execution_count": null,
   "metadata": {},
   "outputs": [],
   "source": [
    "# Run from here "
   ]
  },
  {
   "cell_type": "code",
   "execution_count": 42,
   "metadata": {},
   "outputs": [],
   "source": [
    "df = pd.read_csv(\"dev_top13_train.csv\")"
   ]
  },
  {
   "cell_type": "code",
   "execution_count": null,
   "metadata": {},
   "outputs": [],
   "source": []
  },
  {
   "cell_type": "code",
   "execution_count": 43,
   "metadata": {},
   "outputs": [],
   "source": [
    "df[\"words_len\"] = df.evidence.apply(lambda x : len(x.split()))\n",
    "\n",
    "mask = df[\"words_len\"] < 130 \n",
    "df = df[mask]\n",
    "\n",
    "X = df[[\"claim\",\"evidence\"]]\n",
    "y = df[\"label\"]"
   ]
  },
  {
   "cell_type": "markdown",
   "metadata": {},
   "source": [
    "Making a Stratified Split to Main Distribution"
   ]
  },
  {
   "cell_type": "code",
   "execution_count": 44,
   "metadata": {},
   "outputs": [],
   "source": [
    "from sklearn.model_selection import train_test_split\n",
    "X_train, X_test, y_train, y_test = train_test_split(X, y,\n",
    "                                                    stratify=y, \n",
    "                                                    test_size=0.25)\n",
    "\n",
    "X_train, X_dev, y_train, y_dev = train_test_split(X_train, y_train,\n",
    "                                                    stratify=y_train, \n",
    "                                                    test_size=0.2)"
   ]
  },
  {
   "cell_type": "code",
   "execution_count": 45,
   "metadata": {},
   "outputs": [
    {
     "data": {
      "text/plain": [
       "0    19401\n",
       "1     2031\n",
       "Name: label, dtype: int64"
      ]
     },
     "execution_count": 45,
     "metadata": {},
     "output_type": "execute_result"
    }
   ],
   "source": [
    "y_train.value_counts()"
   ]
  },
  {
   "cell_type": "code",
   "execution_count": 46,
   "metadata": {},
   "outputs": [],
   "source": [
    "train = pd.DataFrame()\n",
    "train[[\"claim\",\"evidence\"]] = X_train\n",
    "train[\"label\"] = y_train\n",
    "dev = pd.DataFrame()\n",
    "dev[[\"claim\",\"evidence\"]] = X_dev\n",
    "dev[\"label\"] = y_dev\n",
    "test = pd.DataFrame()\n",
    "test[[\"claim\",\"evidence\"]] = X_test\n",
    "test[\"label\"] = y_test"
   ]
  },
  {
   "cell_type": "code",
   "execution_count": 47,
   "metadata": {},
   "outputs": [],
   "source": [
    "test.to_csv('./bert/data/test.csv', index=False, header=True)"
   ]
  },
  {
   "cell_type": "raw",
   "metadata": {},
   "source": [
    "drop = [\"Similarity\",\"common_keywords\",\"LCS\"]"
   ]
  },
  {
   "cell_type": "raw",
   "metadata": {},
   "source": [
    "train = train.drop(drop,axis=1)\n",
    "dev = dev.drop(drop,axis=1)\n",
    "test = test.drop(drop+[\"label\"],axis=1)"
   ]
  },
  {
   "cell_type": "code",
   "execution_count": 48,
   "metadata": {},
   "outputs": [],
   "source": [
    "train = train.reset_index().rename(columns={\"index\":\"id\"})\n",
    "dev = dev.reset_index().rename(columns={\"index\":\"id\"})\n",
    "test = test.reset_index().rename(columns={\"index\":\"id\"})"
   ]
  },
  {
   "cell_type": "code",
   "execution_count": 49,
   "metadata": {},
   "outputs": [],
   "source": [
    "train[\"id1\"] = train.id\n",
    "dev[\"id1\"] = dev.id\n",
    "test[\"id1\"] = test.id\n",
    "test[\"index\"] =test.index"
   ]
  },
  {
   "cell_type": "markdown",
   "metadata": {},
   "source": [
    "Tuning into MRPC Data(GLUE) format"
   ]
  },
  {
   "cell_type": "code",
   "execution_count": 50,
   "metadata": {},
   "outputs": [],
   "source": [
    "columns = ['label','id',\"id1\",'claim', 'evidence']\n",
    "rename = {'label':\"Quality\",\"id\":\"#1 ID\",\"id1\":\"#2 ID\",\"claim\":\"#1 String\",\"evidence\":\"#2 String\"}"
   ]
  },
  {
   "cell_type": "code",
   "execution_count": 51,
   "metadata": {},
   "outputs": [],
   "source": [
    "train = train[columns]\n",
    "dev = dev[columns]\n",
    "test = test[[\"index\",'id',\"id1\",'claim', 'evidence']]"
   ]
  },
  {
   "cell_type": "code",
   "execution_count": 52,
   "metadata": {},
   "outputs": [],
   "source": [
    "train.rename(columns=rename,inplace=True)\n",
    "dev.rename(columns=rename,inplace=True)\n",
    "test.rename(columns=rename,inplace=True)"
   ]
  },
  {
   "cell_type": "code",
   "execution_count": 53,
   "metadata": {},
   "outputs": [],
   "source": [
    "train.to_csv('./bert/data/train.tsv', sep='\\t', index=False, header=True)\n",
    "dev.to_csv('./bert/data/dev.tsv', sep='\\t', index=False, header=True)\n",
    "#test.to_csv('./bert/data/test.tsv', sep='\\t', index=False, header=True)"
   ]
  },
  {
   "cell_type": "code",
   "execution_count": 54,
   "metadata": {
    "scrolled": true
   },
   "outputs": [
    {
     "data": {
      "text/html": [
       "<div>\n",
       "<style scoped>\n",
       "    .dataframe tbody tr th:only-of-type {\n",
       "        vertical-align: middle;\n",
       "    }\n",
       "\n",
       "    .dataframe tbody tr th {\n",
       "        vertical-align: top;\n",
       "    }\n",
       "\n",
       "    .dataframe thead th {\n",
       "        text-align: right;\n",
       "    }\n",
       "</style>\n",
       "<table border=\"1\" class=\"dataframe\">\n",
       "  <thead>\n",
       "    <tr style=\"text-align: right;\">\n",
       "      <th></th>\n",
       "      <th>index</th>\n",
       "      <th>#1 ID</th>\n",
       "      <th>#2 ID</th>\n",
       "      <th>#1 String</th>\n",
       "      <th>#2 String</th>\n",
       "    </tr>\n",
       "  </thead>\n",
       "  <tbody>\n",
       "    <tr>\n",
       "      <th>0</th>\n",
       "      <td>0</td>\n",
       "      <td>5490</td>\n",
       "      <td>5490</td>\n",
       "      <td>Nuuk is a seat of government.</td>\n",
       "      <td>Nuuk Cathedral -LRB- Annaassisitta Oqaluffia -...</td>\n",
       "    </tr>\n",
       "    <tr>\n",
       "      <th>1</th>\n",
       "      <td>1</td>\n",
       "      <td>30834</td>\n",
       "      <td>30834</td>\n",
       "      <td>North Vietnam was officially called another name.</td>\n",
       "      <td>Another tournament named Vietnam International...</td>\n",
       "    </tr>\n",
       "    <tr>\n",
       "      <th>2</th>\n",
       "      <td>2</td>\n",
       "      <td>954</td>\n",
       "      <td>954</td>\n",
       "      <td>Drake Bell put out an extended play in 2011.</td>\n",
       "      <td>Born in Cincinnati , Ohio , he played collegia...</td>\n",
       "    </tr>\n",
       "    <tr>\n",
       "      <th>3</th>\n",
       "      <td>3</td>\n",
       "      <td>28146</td>\n",
       "      <td>28146</td>\n",
       "      <td>Down With Love is a romantic movie.</td>\n",
       "      <td>Down to You is a 2000 American romantic comedy...</td>\n",
       "    </tr>\n",
       "    <tr>\n",
       "      <th>4</th>\n",
       "      <td>4</td>\n",
       "      <td>14548</td>\n",
       "      <td>14548</td>\n",
       "      <td>Dilwale Dulhania Le Jayenge began filming in C...</td>\n",
       "      <td>Earning 1.06 billion -LRB- valued at about US$...</td>\n",
       "    </tr>\n",
       "  </tbody>\n",
       "</table>\n",
       "</div>"
      ],
      "text/plain": [
       "   index  #1 ID  #2 ID                                          #1 String  \\\n",
       "0      0   5490   5490                      Nuuk is a seat of government.   \n",
       "1      1  30834  30834  North Vietnam was officially called another name.   \n",
       "2      2    954    954       Drake Bell put out an extended play in 2011.   \n",
       "3      3  28146  28146                Down With Love is a romantic movie.   \n",
       "4      4  14548  14548  Dilwale Dulhania Le Jayenge began filming in C...   \n",
       "\n",
       "                                           #2 String  \n",
       "0  Nuuk Cathedral -LRB- Annaassisitta Oqaluffia -...  \n",
       "1  Another tournament named Vietnam International...  \n",
       "2  Born in Cincinnati , Ohio , he played collegia...  \n",
       "3  Down to You is a 2000 American romantic comedy...  \n",
       "4  Earning 1.06 billion -LRB- valued at about US$...  "
      ]
     },
     "execution_count": 54,
     "metadata": {},
     "output_type": "execute_result"
    }
   ],
   "source": [
    "test.head()"
   ]
  },
  {
   "cell_type": "code",
   "execution_count": 55,
   "metadata": {},
   "outputs": [],
   "source": [
    "from sklearn.metrics import classification_report\n",
    "from sklearn.metrics import accuracy_score\n",
    "import numpy as np"
   ]
  },
  {
   "cell_type": "raw",
   "metadata": {},
   "source": [
    "test_o = pd.read_csv('./bert/data/test.csv')"
   ]
  },
  {
   "cell_type": "raw",
   "metadata": {},
   "source": [
    "np.array(test_o.label)"
   ]
  },
  {
   "cell_type": "raw",
   "metadata": {},
   "source": [
    "test_pred = pd.read_csv('./bert/bert_output/test_results.tsv', sep='\\t',header=None)"
   ]
  },
  {
   "cell_type": "raw",
   "metadata": {},
   "source": [
    "y_pred = np.argmax(np.array(test_pred[[0,1]]), axis=1)"
   ]
  },
  {
   "cell_type": "raw",
   "metadata": {},
   "source": [
    "print('accuracy: {}'.format(accuracy_score(np.array(test_o.label), y_pred)))\n",
    "print(classification_report(np.array(test_o.label), y_pred))"
   ]
  },
  {
   "cell_type": "markdown",
   "metadata": {},
   "source": [
    "# Actual Test Part"
   ]
  },
  {
   "cell_type": "code",
   "execution_count": 7,
   "metadata": {},
   "outputs": [],
   "source": [
    "import json\n",
    "import pandas as pd\n",
    "import numpy as np"
   ]
  },
  {
   "cell_type": "code",
   "execution_count": 8,
   "metadata": {},
   "outputs": [],
   "source": [
    "file = 'test-unlabelled.json'\n",
    "with open(file) as train_file:\n",
    "    tst = json.load(train_file)"
   ]
  },
  {
   "cell_type": "code",
   "execution_count": 33,
   "metadata": {},
   "outputs": [],
   "source": [
    "file = 'train.json'\n",
    "with open(file) as train_file:\n",
    "    dev = json.load(train_file)"
   ]
  },
  {
   "cell_type": "code",
   "execution_count": 14,
   "metadata": {},
   "outputs": [],
   "source": [
    "test_df = pd.read_csv('data/search_result_v5_test.csv')"
   ]
  },
  {
   "cell_type": "code",
   "execution_count": 15,
   "metadata": {},
   "outputs": [],
   "source": [
    "test_df[\"claim\"] = test_df.claim_id.apply(lambda x: tst[str(x)][\"claim\"])"
   ]
  },
  {
   "cell_type": "code",
   "execution_count": 16,
   "metadata": {},
   "outputs": [],
   "source": [
    "test_df.rename(columns={\"text\":\"evidence\"},inplace=True)"
   ]
  },
  {
   "cell_type": "code",
   "execution_count": 17,
   "metadata": {},
   "outputs": [
    {
     "data": {
      "text/plain": [
       "(500100, 8)"
      ]
     },
     "execution_count": 17,
     "metadata": {},
     "output_type": "execute_result"
    }
   ],
   "source": [
    "test_df.dropna().shape"
   ]
  },
  {
   "cell_type": "code",
   "execution_count": 18,
   "metadata": {},
   "outputs": [],
   "source": [
    "# Get the top-k desired\n",
    "k = 13"
   ]
  },
  {
   "cell_type": "code",
   "execution_count": 19,
   "metadata": {},
   "outputs": [],
   "source": [
    "mask = (test_df[\"rank\"] <=k)\n",
    "test_df = test_df[mask]"
   ]
  },
  {
   "cell_type": "code",
   "execution_count": 20,
   "metadata": {},
   "outputs": [
    {
     "data": {
      "text/plain": [
       "(125025, 8)"
      ]
     },
     "execution_count": 20,
     "metadata": {},
     "output_type": "execute_result"
    }
   ],
   "source": [
    "test_df.shape"
   ]
  },
  {
   "cell_type": "code",
   "execution_count": 21,
   "metadata": {},
   "outputs": [],
   "source": [
    "test_df[\"evidence\"] = test_df[\"evidence\"].apply(lambda x: x.replace(\"\\n\",\"\").strip())"
   ]
  },
  {
   "cell_type": "code",
   "execution_count": 22,
   "metadata": {},
   "outputs": [
    {
     "data": {
      "text/html": [
       "<div>\n",
       "<style scoped>\n",
       "    .dataframe tbody tr th:only-of-type {\n",
       "        vertical-align: middle;\n",
       "    }\n",
       "\n",
       "    .dataframe tbody tr th {\n",
       "        vertical-align: top;\n",
       "    }\n",
       "\n",
       "    .dataframe thead th {\n",
       "        text-align: right;\n",
       "    }\n",
       "</style>\n",
       "<table border=\"1\" class=\"dataframe\">\n",
       "  <thead>\n",
       "    <tr style=\"text-align: right;\">\n",
       "      <th></th>\n",
       "      <th>claim_id</th>\n",
       "      <th>found_doc</th>\n",
       "      <th>sentence_id</th>\n",
       "      <th>evidence</th>\n",
       "      <th>rank</th>\n",
       "      <th>percentage</th>\n",
       "      <th>weight</th>\n",
       "      <th>claim</th>\n",
       "    </tr>\n",
       "  </thead>\n",
       "  <tbody>\n",
       "    <tr>\n",
       "      <th>0</th>\n",
       "      <td>12</td>\n",
       "      <td>Carlos_Santana_Live</td>\n",
       "      <td>0</td>\n",
       "      <td>Carlos Santana Live is a 2004 live album by gu...</td>\n",
       "      <td>1</td>\n",
       "      <td>50</td>\n",
       "      <td>40.007783</td>\n",
       "      <td>Carlos Santana disbanded Santana in 1965.</td>\n",
       "    </tr>\n",
       "    <tr>\n",
       "      <th>1</th>\n",
       "      <td>12</td>\n",
       "      <td>Coke_Escovedo</td>\n",
       "      <td>19</td>\n",
       "      <td>During Carlos Santana 's transition period bet...</td>\n",
       "      <td>2</td>\n",
       "      <td>47</td>\n",
       "      <td>37.767251</td>\n",
       "      <td>Carlos Santana disbanded Santana in 1965.</td>\n",
       "    </tr>\n",
       "    <tr>\n",
       "      <th>2</th>\n",
       "      <td>12</td>\n",
       "      <td>Jorge_Santana</td>\n",
       "      <td>17</td>\n",
       "      <td>In 1994 he recorded an album with his brother ...</td>\n",
       "      <td>3</td>\n",
       "      <td>47</td>\n",
       "      <td>37.698147</td>\n",
       "      <td>Carlos Santana disbanded Santana in 1965.</td>\n",
       "    </tr>\n",
       "    <tr>\n",
       "      <th>3</th>\n",
       "      <td>12</td>\n",
       "      <td>Santana</td>\n",
       "      <td>2</td>\n",
       "      <td>Santana -LRB- band -RRB- , rock band featuring...</td>\n",
       "      <td>4</td>\n",
       "      <td>46</td>\n",
       "      <td>37.459342</td>\n",
       "      <td>Carlos Santana disbanded Santana in 1965.</td>\n",
       "    </tr>\n",
       "    <tr>\n",
       "      <th>4</th>\n",
       "      <td>12</td>\n",
       "      <td>Carlos_Alves</td>\n",
       "      <td>5</td>\n",
       "      <td>Carlos Santana -LRB- Carlos Augusto Alves Sant...</td>\n",
       "      <td>5</td>\n",
       "      <td>46</td>\n",
       "      <td>37.210843</td>\n",
       "      <td>Carlos Santana disbanded Santana in 1965.</td>\n",
       "    </tr>\n",
       "  </tbody>\n",
       "</table>\n",
       "</div>"
      ],
      "text/plain": [
       "   claim_id            found_doc  sentence_id  \\\n",
       "0        12  Carlos_Santana_Live            0   \n",
       "1        12        Coke_Escovedo           19   \n",
       "2        12        Jorge_Santana           17   \n",
       "3        12              Santana            2   \n",
       "4        12         Carlos_Alves            5   \n",
       "\n",
       "                                            evidence  rank  percentage  \\\n",
       "0  Carlos Santana Live is a 2004 live album by gu...     1          50   \n",
       "1  During Carlos Santana 's transition period bet...     2          47   \n",
       "2  In 1994 he recorded an album with his brother ...     3          47   \n",
       "3  Santana -LRB- band -RRB- , rock band featuring...     4          46   \n",
       "4  Carlos Santana -LRB- Carlos Augusto Alves Sant...     5          46   \n",
       "\n",
       "      weight                                      claim  \n",
       "0  40.007783  Carlos Santana disbanded Santana in 1965.  \n",
       "1  37.767251  Carlos Santana disbanded Santana in 1965.  \n",
       "2  37.698147  Carlos Santana disbanded Santana in 1965.  \n",
       "3  37.459342  Carlos Santana disbanded Santana in 1965.  \n",
       "4  37.210843  Carlos Santana disbanded Santana in 1965.  "
      ]
     },
     "execution_count": 22,
     "metadata": {},
     "output_type": "execute_result"
    }
   ],
   "source": [
    "test_df.head()"
   ]
  },
  {
   "cell_type": "code",
   "execution_count": 23,
   "metadata": {},
   "outputs": [],
   "source": [
    "test_df.to_csv('./bert/data/test.csv', index=False, header=True)"
   ]
  },
  {
   "cell_type": "code",
   "execution_count": 24,
   "metadata": {},
   "outputs": [],
   "source": [
    "test_df = test_df.rename(columns={\"claim_id\":\"id\"})"
   ]
  },
  {
   "cell_type": "code",
   "execution_count": 25,
   "metadata": {},
   "outputs": [],
   "source": [
    "test_df[\"id1\"] = test_df.id\n",
    "test_df[\"index\"] =test_df.index"
   ]
  },
  {
   "cell_type": "code",
   "execution_count": 26,
   "metadata": {},
   "outputs": [],
   "source": [
    "columns = [\"index\",'id',\"id1\",'claim', 'evidence']\n",
    "rename = {'label':\"Quality\",\"id\":\"#1 ID\",\"id1\":\"#2 ID\",\"claim\":\"#1 String\",\"evidence\":\"#2 String\"}"
   ]
  },
  {
   "cell_type": "code",
   "execution_count": 27,
   "metadata": {},
   "outputs": [],
   "source": [
    "test_df = test_df[columns]"
   ]
  },
  {
   "cell_type": "code",
   "execution_count": 28,
   "metadata": {},
   "outputs": [],
   "source": [
    "test_df.rename(columns=rename,inplace=True)"
   ]
  },
  {
   "cell_type": "code",
   "execution_count": 29,
   "metadata": {},
   "outputs": [
    {
     "data": {
      "text/html": [
       "<div>\n",
       "<style scoped>\n",
       "    .dataframe tbody tr th:only-of-type {\n",
       "        vertical-align: middle;\n",
       "    }\n",
       "\n",
       "    .dataframe tbody tr th {\n",
       "        vertical-align: top;\n",
       "    }\n",
       "\n",
       "    .dataframe thead th {\n",
       "        text-align: right;\n",
       "    }\n",
       "</style>\n",
       "<table border=\"1\" class=\"dataframe\">\n",
       "  <thead>\n",
       "    <tr style=\"text-align: right;\">\n",
       "      <th></th>\n",
       "      <th>index</th>\n",
       "      <th>#1 ID</th>\n",
       "      <th>#2 ID</th>\n",
       "      <th>#1 String</th>\n",
       "      <th>#2 String</th>\n",
       "    </tr>\n",
       "  </thead>\n",
       "  <tbody>\n",
       "    <tr>\n",
       "      <th>0</th>\n",
       "      <td>0</td>\n",
       "      <td>12</td>\n",
       "      <td>12</td>\n",
       "      <td>Carlos Santana disbanded Santana in 1965.</td>\n",
       "      <td>Carlos Santana Live is a 2004 live album by gu...</td>\n",
       "    </tr>\n",
       "    <tr>\n",
       "      <th>1</th>\n",
       "      <td>1</td>\n",
       "      <td>12</td>\n",
       "      <td>12</td>\n",
       "      <td>Carlos Santana disbanded Santana in 1965.</td>\n",
       "      <td>During Carlos Santana 's transition period bet...</td>\n",
       "    </tr>\n",
       "    <tr>\n",
       "      <th>2</th>\n",
       "      <td>2</td>\n",
       "      <td>12</td>\n",
       "      <td>12</td>\n",
       "      <td>Carlos Santana disbanded Santana in 1965.</td>\n",
       "      <td>In 1994 he recorded an album with his brother ...</td>\n",
       "    </tr>\n",
       "    <tr>\n",
       "      <th>3</th>\n",
       "      <td>3</td>\n",
       "      <td>12</td>\n",
       "      <td>12</td>\n",
       "      <td>Carlos Santana disbanded Santana in 1965.</td>\n",
       "      <td>Santana -LRB- band -RRB- , rock band featuring...</td>\n",
       "    </tr>\n",
       "    <tr>\n",
       "      <th>4</th>\n",
       "      <td>4</td>\n",
       "      <td>12</td>\n",
       "      <td>12</td>\n",
       "      <td>Carlos Santana disbanded Santana in 1965.</td>\n",
       "      <td>Carlos Santana -LRB- Carlos Augusto Alves Sant...</td>\n",
       "    </tr>\n",
       "  </tbody>\n",
       "</table>\n",
       "</div>"
      ],
      "text/plain": [
       "   index  #1 ID  #2 ID                                  #1 String  \\\n",
       "0      0     12     12  Carlos Santana disbanded Santana in 1965.   \n",
       "1      1     12     12  Carlos Santana disbanded Santana in 1965.   \n",
       "2      2     12     12  Carlos Santana disbanded Santana in 1965.   \n",
       "3      3     12     12  Carlos Santana disbanded Santana in 1965.   \n",
       "4      4     12     12  Carlos Santana disbanded Santana in 1965.   \n",
       "\n",
       "                                           #2 String  \n",
       "0  Carlos Santana Live is a 2004 live album by gu...  \n",
       "1  During Carlos Santana 's transition period bet...  \n",
       "2  In 1994 he recorded an album with his brother ...  \n",
       "3  Santana -LRB- band -RRB- , rock band featuring...  \n",
       "4  Carlos Santana -LRB- Carlos Augusto Alves Sant...  "
      ]
     },
     "execution_count": 29,
     "metadata": {},
     "output_type": "execute_result"
    }
   ],
   "source": [
    "test_df.head()"
   ]
  },
  {
   "cell_type": "code",
   "execution_count": 30,
   "metadata": {},
   "outputs": [],
   "source": [
    "test_df.to_csv('./bert/data/test.tsv', sep='\\t', index=False, header=True)"
   ]
  },
  {
   "cell_type": "code",
   "execution_count": 31,
   "metadata": {},
   "outputs": [
    {
     "data": {
      "text/plain": [
       "(125025, 5)"
      ]
     },
     "execution_count": 31,
     "metadata": {},
     "output_type": "execute_result"
    }
   ],
   "source": [
    "test_df.shape"
   ]
  },
  {
   "cell_type": "code",
   "execution_count": 21,
   "metadata": {},
   "outputs": [
    {
     "data": {
      "text/html": [
       "<div>\n",
       "<style scoped>\n",
       "    .dataframe tbody tr th:only-of-type {\n",
       "        vertical-align: middle;\n",
       "    }\n",
       "\n",
       "    .dataframe tbody tr th {\n",
       "        vertical-align: top;\n",
       "    }\n",
       "\n",
       "    .dataframe thead th {\n",
       "        text-align: right;\n",
       "    }\n",
       "</style>\n",
       "<table border=\"1\" class=\"dataframe\">\n",
       "  <thead>\n",
       "    <tr style=\"text-align: right;\">\n",
       "      <th></th>\n",
       "      <th>index</th>\n",
       "      <th>#1 ID</th>\n",
       "      <th>#2 ID</th>\n",
       "      <th>#1 String</th>\n",
       "      <th>#2 String</th>\n",
       "    </tr>\n",
       "  </thead>\n",
       "  <tbody>\n",
       "    <tr>\n",
       "      <th>0</th>\n",
       "      <td>0</td>\n",
       "      <td>12</td>\n",
       "      <td>12</td>\n",
       "      <td>Carlos Santana disbanded Santana in 1965.</td>\n",
       "      <td>Carlos Santana Live is a 2004 live album by gu...</td>\n",
       "    </tr>\n",
       "    <tr>\n",
       "      <th>1</th>\n",
       "      <td>1</td>\n",
       "      <td>12</td>\n",
       "      <td>12</td>\n",
       "      <td>Carlos Santana disbanded Santana in 1965.</td>\n",
       "      <td>During Carlos Santana 's transition period bet...</td>\n",
       "    </tr>\n",
       "    <tr>\n",
       "      <th>2</th>\n",
       "      <td>2</td>\n",
       "      <td>12</td>\n",
       "      <td>12</td>\n",
       "      <td>Carlos Santana disbanded Santana in 1965.</td>\n",
       "      <td>In 1994 he recorded an album with his brother ...</td>\n",
       "    </tr>\n",
       "    <tr>\n",
       "      <th>3</th>\n",
       "      <td>3</td>\n",
       "      <td>12</td>\n",
       "      <td>12</td>\n",
       "      <td>Carlos Santana disbanded Santana in 1965.</td>\n",
       "      <td>Santana -LRB- band -RRB- , rock band featuring...</td>\n",
       "    </tr>\n",
       "    <tr>\n",
       "      <th>4</th>\n",
       "      <td>4</td>\n",
       "      <td>12</td>\n",
       "      <td>12</td>\n",
       "      <td>Carlos Santana disbanded Santana in 1965.</td>\n",
       "      <td>Carlos Santana -LRB- Carlos Augusto Alves Sant...</td>\n",
       "    </tr>\n",
       "  </tbody>\n",
       "</table>\n",
       "</div>"
      ],
      "text/plain": [
       "   index  #1 ID  #2 ID                                  #1 String  \\\n",
       "0      0     12     12  Carlos Santana disbanded Santana in 1965.   \n",
       "1      1     12     12  Carlos Santana disbanded Santana in 1965.   \n",
       "2      2     12     12  Carlos Santana disbanded Santana in 1965.   \n",
       "3      3     12     12  Carlos Santana disbanded Santana in 1965.   \n",
       "4      4     12     12  Carlos Santana disbanded Santana in 1965.   \n",
       "\n",
       "                                           #2 String  \n",
       "0  Carlos Santana Live is a 2004 live album by gu...  \n",
       "1  During Carlos Santana 's transition period bet...  \n",
       "2  In 1994 he recorded an album with his brother ...  \n",
       "3  Santana -LRB- band -RRB- , rock band featuring...  \n",
       "4  Carlos Santana -LRB- Carlos Augusto Alves Sant...  "
      ]
     },
     "execution_count": 21,
     "metadata": {},
     "output_type": "execute_result"
    }
   ],
   "source": [
    "test_df.head()"
   ]
  },
  {
   "cell_type": "markdown",
   "metadata": {},
   "source": [
    "Reading and Generating the predictions file for Sentence pairs"
   ]
  },
  {
   "cell_type": "code",
   "execution_count": 72,
   "metadata": {},
   "outputs": [],
   "source": [
    "df = pd.read_csv('./bert/data/test.csv')"
   ]
  },
  {
   "cell_type": "code",
   "execution_count": 73,
   "metadata": {},
   "outputs": [
    {
     "data": {
      "text/plain": [
       "(1502, 7)"
      ]
     },
     "execution_count": 73,
     "metadata": {},
     "output_type": "execute_result"
    }
   ],
   "source": [
    "df.shape"
   ]
  },
  {
   "cell_type": "markdown",
   "metadata": {},
   "source": [
    "# Adding Label Prediction to CSV Running this part after tuning BERT "
   ]
  },
  {
   "cell_type": "code",
   "execution_count": 34,
   "metadata": {},
   "outputs": [],
   "source": [
    "test_o = pd.read_csv('./bert/data/test.csv')\n",
    "\n",
    "test_pred = pd.read_csv('./bert/bert_output/test_results.tsv', sep='\\t',header=None)\n",
    "\n",
    "y_pred = np.argmax(np.array(test_pred[[0,1]]), axis=1)"
   ]
  },
  {
   "cell_type": "code",
   "execution_count": 35,
   "metadata": {},
   "outputs": [],
   "source": [
    "assert test_o.shape[0] == y_pred.shape[0]"
   ]
  },
  {
   "cell_type": "code",
   "execution_count": 36,
   "metadata": {},
   "outputs": [],
   "source": [
    "mask = y_pred.astype(bool)"
   ]
  },
  {
   "cell_type": "code",
   "execution_count": 37,
   "metadata": {},
   "outputs": [],
   "source": [
    "test = test_o[mask]"
   ]
  },
  {
   "cell_type": "code",
   "execution_count": 38,
   "metadata": {},
   "outputs": [
    {
     "data": {
      "text/html": [
       "<div>\n",
       "<style scoped>\n",
       "    .dataframe tbody tr th:only-of-type {\n",
       "        vertical-align: middle;\n",
       "    }\n",
       "\n",
       "    .dataframe tbody tr th {\n",
       "        vertical-align: top;\n",
       "    }\n",
       "\n",
       "    .dataframe thead th {\n",
       "        text-align: right;\n",
       "    }\n",
       "</style>\n",
       "<table border=\"1\" class=\"dataframe\">\n",
       "  <thead>\n",
       "    <tr style=\"text-align: right;\">\n",
       "      <th></th>\n",
       "      <th>claim_id</th>\n",
       "      <th>found_doc</th>\n",
       "      <th>sentence_id</th>\n",
       "      <th>evidence</th>\n",
       "      <th>rank</th>\n",
       "      <th>percentage</th>\n",
       "      <th>weight</th>\n",
       "      <th>claim</th>\n",
       "    </tr>\n",
       "  </thead>\n",
       "  <tbody>\n",
       "    <tr>\n",
       "      <th>0</th>\n",
       "      <td>12</td>\n",
       "      <td>Carlos_Santana_Live</td>\n",
       "      <td>0</td>\n",
       "      <td>Carlos Santana Live is a 2004 live album by gu...</td>\n",
       "      <td>1</td>\n",
       "      <td>50</td>\n",
       "      <td>40.007783</td>\n",
       "      <td>Carlos Santana disbanded Santana in 1965.</td>\n",
       "    </tr>\n",
       "    <tr>\n",
       "      <th>1</th>\n",
       "      <td>12</td>\n",
       "      <td>Coke_Escovedo</td>\n",
       "      <td>19</td>\n",
       "      <td>During Carlos Santana 's transition period bet...</td>\n",
       "      <td>2</td>\n",
       "      <td>47</td>\n",
       "      <td>37.767251</td>\n",
       "      <td>Carlos Santana disbanded Santana in 1965.</td>\n",
       "    </tr>\n",
       "    <tr>\n",
       "      <th>2</th>\n",
       "      <td>12</td>\n",
       "      <td>Jorge_Santana</td>\n",
       "      <td>17</td>\n",
       "      <td>In 1994 he recorded an album with his brother ...</td>\n",
       "      <td>3</td>\n",
       "      <td>47</td>\n",
       "      <td>37.698147</td>\n",
       "      <td>Carlos Santana disbanded Santana in 1965.</td>\n",
       "    </tr>\n",
       "    <tr>\n",
       "      <th>3</th>\n",
       "      <td>12</td>\n",
       "      <td>Santana</td>\n",
       "      <td>2</td>\n",
       "      <td>Santana -LRB- band -RRB- , rock band featuring...</td>\n",
       "      <td>4</td>\n",
       "      <td>46</td>\n",
       "      <td>37.459342</td>\n",
       "      <td>Carlos Santana disbanded Santana in 1965.</td>\n",
       "    </tr>\n",
       "    <tr>\n",
       "      <th>4</th>\n",
       "      <td>12</td>\n",
       "      <td>Carlos_Alves</td>\n",
       "      <td>5</td>\n",
       "      <td>Carlos Santana -LRB- Carlos Augusto Alves Sant...</td>\n",
       "      <td>5</td>\n",
       "      <td>46</td>\n",
       "      <td>37.210843</td>\n",
       "      <td>Carlos Santana disbanded Santana in 1965.</td>\n",
       "    </tr>\n",
       "  </tbody>\n",
       "</table>\n",
       "</div>"
      ],
      "text/plain": [
       "   claim_id            found_doc  sentence_id  \\\n",
       "0        12  Carlos_Santana_Live            0   \n",
       "1        12        Coke_Escovedo           19   \n",
       "2        12        Jorge_Santana           17   \n",
       "3        12              Santana            2   \n",
       "4        12         Carlos_Alves            5   \n",
       "\n",
       "                                            evidence  rank  percentage  \\\n",
       "0  Carlos Santana Live is a 2004 live album by gu...     1          50   \n",
       "1  During Carlos Santana 's transition period bet...     2          47   \n",
       "2  In 1994 he recorded an album with his brother ...     3          47   \n",
       "3  Santana -LRB- band -RRB- , rock band featuring...     4          46   \n",
       "4  Carlos Santana -LRB- Carlos Augusto Alves Sant...     5          46   \n",
       "\n",
       "      weight                                      claim  \n",
       "0  40.007783  Carlos Santana disbanded Santana in 1965.  \n",
       "1  37.767251  Carlos Santana disbanded Santana in 1965.  \n",
       "2  37.698147  Carlos Santana disbanded Santana in 1965.  \n",
       "3  37.459342  Carlos Santana disbanded Santana in 1965.  \n",
       "4  37.210843  Carlos Santana disbanded Santana in 1965.  "
      ]
     },
     "execution_count": 38,
     "metadata": {},
     "output_type": "execute_result"
    }
   ],
   "source": [
    "test_o.head()"
   ]
  },
  {
   "cell_type": "code",
   "execution_count": 39,
   "metadata": {},
   "outputs": [
    {
     "data": {
      "text/plain": [
       "4124"
      ]
     },
     "execution_count": 39,
     "metadata": {},
     "output_type": "execute_result"
    }
   ],
   "source": [
    "test.claim_id.nunique()"
   ]
  },
  {
   "cell_type": "code",
   "execution_count": 40,
   "metadata": {},
   "outputs": [
    {
     "data": {
      "text/plain": [
       "(6088, 8)"
      ]
     },
     "execution_count": 40,
     "metadata": {},
     "output_type": "execute_result"
    }
   ],
   "source": [
    "test.shape"
   ]
  },
  {
   "cell_type": "code",
   "execution_count": 41,
   "metadata": {},
   "outputs": [],
   "source": [
    "test.to_csv(\"test_pred_top13.csv\",index=False)"
   ]
  },
  {
   "cell_type": "code",
   "execution_count": null,
   "metadata": {},
   "outputs": [],
   "source": []
  }
 ],
 "metadata": {
  "kernelspec": {
   "display_name": "Python 3",
   "language": "python",
   "name": "python3"
  },
  "language_info": {
   "codemirror_mode": {
    "name": "ipython",
    "version": 3
   },
   "file_extension": ".py",
   "mimetype": "text/x-python",
   "name": "python",
   "nbconvert_exporter": "python",
   "pygments_lexer": "ipython3",
   "version": "3.5.5"
  }
 },
 "nbformat": 4,
 "nbformat_minor": 2
}
