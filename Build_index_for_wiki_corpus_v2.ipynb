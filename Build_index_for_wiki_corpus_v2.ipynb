{
 "cells": [
  {
   "cell_type": "code",
   "execution_count": 1,
   "metadata": {},
   "outputs": [],
   "source": [
    "import os\n",
    "import io\n",
    "import json\n",
    "from zipfile import ZipFile\n",
    "import unicodedata\n",
    "import nltk\n",
    "from nltk.corpus import stopwords \n",
    "stop_words = set(stopwords.words('english'))"
   ]
  },
  {
   "cell_type": "code",
   "execution_count": 2,
   "metadata": {},
   "outputs": [],
   "source": [
    "import re\n",
    "import xapian\n",
    "import pandas as pd\n",
    "import numpy as np"
   ]
  },
  {
   "cell_type": "code",
   "execution_count": 3,
   "metadata": {},
   "outputs": [],
   "source": [
    "pd.options.display.max_colwidth = 100"
   ]
  },
  {
   "cell_type": "code",
   "execution_count": 4,
   "metadata": {},
   "outputs": [],
   "source": [
    "DBPATH = \"ner_index\""
   ]
  },
  {
   "cell_type": "code",
   "execution_count": 5,
   "metadata": {},
   "outputs": [],
   "source": [
    "if not os.path.exists(DBPATH):\n",
    "    os.mkdir(DBPATH)"
   ]
  },
  {
   "cell_type": "markdown",
   "metadata": {},
   "source": [
    "# Build Index"
   ]
  },
  {
   "cell_type": "code",
   "execution_count": 6,
   "metadata": {},
   "outputs": [],
   "source": [
    "zf = ZipFile(\"../wiki-pages-text.zip\")"
   ]
  },
  {
   "cell_type": "code",
   "execution_count": 7,
   "metadata": {},
   "outputs": [
    {
     "data": {
      "text/plain": [
       "(110, 'wiki-pages-text/wiki-009.txt')"
      ]
     },
     "execution_count": 7,
     "metadata": {},
     "output_type": "execute_result"
    }
   ],
   "source": [
    "files = [item.filename for item in zf.filelist]\n",
    "len(files), files[1]"
   ]
  },
  {
   "cell_type": "code",
   "execution_count": 8,
   "metadata": {},
   "outputs": [],
   "source": [
    "def read_shard(zf, path):\n",
    "    items = []\n",
    "    fp = zf.open(path, mode='r')\n",
    "    tfp = io.TextIOWrapper(fp)\n",
    "    nlines = 0\n",
    "    for line in tfp.readlines():\n",
    "        nlines += 1\n",
    "        line = unicodedata.normalize('NFD', line)\n",
    "        match = re.match(\"(\\S+)\\s(\\d+)\\s(.*)\\n\", line)\n",
    "        if match:\n",
    "            items.append(match.groups())\n",
    "        else:\n",
    "            #print(line)\n",
    "            pass\n",
    "    fp.close()\n",
    "    tfp.close()\n",
    "    return items#, nlines"
   ]
  },
  {
   "cell_type": "code",
   "execution_count": 9,
   "metadata": {},
   "outputs": [],
   "source": [
    "def read_shard_as_df(zf, path):\n",
    "    items = read_shard(zf, path)\n",
    "    raw_df = pd.DataFrame(data=items, columns=['doc_id', 'sentence', 'text'])\n",
    "    func = lambda x: \" \".join(x)\n",
    "    return raw_df.groupby('doc_id')['text'].agg(func)"
   ]
  },
  {
   "cell_type": "code",
   "execution_count": 10,
   "metadata": {},
   "outputs": [],
   "source": [
    "def preprocess_ner(s):\n",
    "    #s = re.sub(\"^(The|the|A|a|An|an)\\s\", \"\", s)\n",
    "    #s = re.sub(\"\\s\", \"_\", s) \n",
    "    return unicodedata.normalize('NFD', s)\n",
    "\n",
    "def obtain_nouns(v):\n",
    "    ents = {preprocess_ner(item['entity']) for item in v['named_entities']}\n",
    "    ents_roots = {preprocess_ner(item['root']) for item in v['named_entities']}\n",
    "    nps = {preprocess_ner(item['noun_phrase']) for item in v['noun_phrases']}\n",
    "    nps_roots = {preprocess_ner(item['root']) for item in v['noun_phrases']}\n",
    "    return ents.union(nps).union(ents_roots).union(nps_roots)\n",
    "\n",
    "def read_ner_data(shard):\n",
    "    df = pd.read_json('data/corpus/{}.json'.format(shard), orient=\"split\")\n",
    "    df.index.name = 'page_id'\n",
    "    df.reset_index(inplace=True)\n",
    "    for col in ['page_id']:\n",
    "        df[col] = df[col].apply(lambda x: unicodedata.normalize('NFD', x))\n",
    "    df.set_index('page_id', inplace=True)\n",
    "    df['entities'] = df.parsed_text.apply(obtain_nouns)\n",
    "    return df.entities.to_dict()"
   ]
  },
  {
   "cell_type": "code",
   "execution_count": 11,
   "metadata": {},
   "outputs": [
    {
     "name": "stdout",
     "output_type": "stream",
     "text": [
      "wiki-pages-text/wiki-001.txt\n",
      "wiki-pages-text/wiki-002.txt\n",
      "wiki-pages-text/wiki-003.txt\n",
      "wiki-pages-text/wiki-004.txt\n",
      "wiki-pages-text/wiki-005.txt\n",
      "wiki-pages-text/wiki-006.txt\n",
      "wiki-pages-text/wiki-007.txt\n",
      "wiki-pages-text/wiki-008.txt\n",
      "wiki-pages-text/wiki-009.txt\n",
      "wiki-pages-text/wiki-010.txt\n",
      "wiki-pages-text/wiki-011.txt\n",
      "wiki-pages-text/wiki-012.txt\n",
      "wiki-pages-text/wiki-013.txt\n",
      "wiki-pages-text/wiki-014.txt\n",
      "wiki-pages-text/wiki-015.txt\n",
      "No keywords found for page_id=Benjamin_Biaggini\n",
      "Benjamin_Biaggini Benjamin Franklin Biaggini -LRB- April 15 , 1916 -- May 28 , 2005 -RRB- was president of the Southern Pacific Company , parent company of Southern Pacific Railroad , from 1964 to 1976 and chairman of the Board of Directors from 1976 to 1983 . 'Benjamin_Biaggini'\n",
      "wiki-pages-text/wiki-016.txt\n",
      "wiki-pages-text/wiki-017.txt\n",
      "wiki-pages-text/wiki-018.txt\n",
      "wiki-pages-text/wiki-019.txt\n",
      "wiki-pages-text/wiki-020.txt\n",
      "wiki-pages-text/wiki-021.txt\n",
      "wiki-pages-text/wiki-022.txt\n",
      "wiki-pages-text/wiki-023.txt\n",
      "wiki-pages-text/wiki-024.txt\n",
      "wiki-pages-text/wiki-025.txt\n",
      "wiki-pages-text/wiki-026.txt\n",
      "wiki-pages-text/wiki-027.txt\n",
      "wiki-pages-text/wiki-028.txt\n",
      "wiki-pages-text/wiki-029.txt\n",
      "wiki-pages-text/wiki-030.txt\n",
      "wiki-pages-text/wiki-031.txt\n",
      "wiki-pages-text/wiki-032.txt\n",
      "wiki-pages-text/wiki-033.txt\n",
      "wiki-pages-text/wiki-034.txt\n",
      "wiki-pages-text/wiki-035.txt\n",
      "wiki-pages-text/wiki-036.txt\n",
      "wiki-pages-text/wiki-037.txt\n",
      "wiki-pages-text/wiki-038.txt\n",
      "wiki-pages-text/wiki-039.txt\n",
      "wiki-pages-text/wiki-040.txt\n",
      "wiki-pages-text/wiki-041.txt\n",
      "No keywords found for page_id=Grade_II*_listed_buildings_in_Nuneaton_and_Bedworth\n",
      "Grade_II*_listed_buildings_in_Nuneaton_and_Bedworth There are over 20,000 Grade II * listed buildings in England . This page is a list of these buildings in the district of Nuneaton and Bedworth in Warwickshire . 'Grade_II*_listed_buildings_in_Nuneaton_and_Bedworth'\n",
      "wiki-pages-text/wiki-042.txt\n",
      "Heiwa-dōri https://www.google.ie/search?q=Heiwa-d%C5%8Dri&sa=X&espv=2&biw=1366&bih=662&tbm=isch&imgil=47P-qivpJpMRYM%253A%253BMocUqrwUmnwBRM%253Bhttps%25253A%25252F%25252Ffr.wikipedia.org%25252Fwiki%25252FHeiwa-dori&source=iu&pf=m&fir=47P-qivpJpMRYM%253A%252CMocUqrwUmnwBRM%252C_&usg=__CHK3puFaOESCAX0f6Ggq5aJH8yM%3D&ved=0ahUKEwin3_CW-9DQAhVLJcAKHRGMCvkQyjcIMw&ei=oAY_WKePFcvKgAaRmKrIDw#imgrc=47P-qivpJpMRYM%3A Heiwa Dōri -LRB- 平和通り , Peace Street -RRB- of Naha , is a shopping location and tourist attraction in Okinawa . The street features many gift shops selling wares that range from stone Shisa dogs , which are traditional statues placed on the roofs of many Okinawan homes as protection from evil , and tempura to colored glass and geta clogs . Category : Shopping districts and streets in Japan Category : Tourist attractions in Okinawa Prefecture Category : Geography of Okinawa Prefecture Term too long (> 245): Khttps://www.google.ie/search?q=heiwa-d%c5%8dri&sa=x&espv=2&biw=1366&bih=662&tbm=isch&imgil=47p-qivpjpmrym%253a%253bmocuqrwumnwbrm%253bhttps%25253a%25252f%25252ffr.wikipedia.org%25252fwiki%25252fheiwa-dori&source=iu&pf=m&fir=47p-qivpjpmrym%253a%252cmocuqrwumnwbrm%252c_&usg=__chk3pufaoescax0f6ggq5ajh8ym%3d&ved=0ahukewin3_cw-9dqahvljcakhrgmcvkqyjcimw&ei=oay_wkepfcvkgaarmkridw#imgrc=47p-qivpjpmrym%3a\n",
      "wiki-pages-text/wiki-043.txt\n",
      "wiki-pages-text/wiki-044.txt\n",
      "wiki-pages-text/wiki-045.txt\n",
      "wiki-pages-text/wiki-046.txt\n",
      "wiki-pages-text/wiki-047.txt\n",
      "wiki-pages-text/wiki-048.txt\n",
      "wiki-pages-text/wiki-049.txt\n",
      "wiki-pages-text/wiki-050.txt\n",
      "wiki-pages-text/wiki-051.txt\n",
      "wiki-pages-text/wiki-052.txt\n",
      "wiki-pages-text/wiki-053.txt\n",
      "wiki-pages-text/wiki-054.txt\n",
      "wiki-pages-text/wiki-055.txt\n",
      "wiki-pages-text/wiki-056.txt\n",
      "wiki-pages-text/wiki-057.txt\n",
      "wiki-pages-text/wiki-058.txt\n",
      "wiki-pages-text/wiki-059.txt\n",
      "Lithuanian–Byelorussian_Soviet_Socialist_Republic The Lithuanian -- Byelorussian Soviet Socialist Republic -LRB- LBSSR ; Lietuvos -- Baltarusijos Tarybinė Socialistinė Respublika Літоўска -- Беларуская Савецкая Сацыялістычная Рэспубліка Литовско -- Белорусская ССР Litewsko -- Białoruska Republika Radziecka -RRB- or Litbel -LRB- Lit-Bel -RRB- was a Soviet socialist republic that existed within the territories of modern Belarus and eastern Lithuania for approximately five months during 1919 . It was created after the merger of the Lithuanian Soviet Socialist Republic and the Socialist Soviet Republic of Byelorussia . The republic was dissolved after the Polish Army took over its claimed territory of eastern Lithuania during the Polish -- Soviet War . Term too long (> 245): Klietuvos-baltarusijos tarybinė socialistinė respublika літоўска-беларуская савецкая сацыялістычная рэспубліка литовско-белорусская сср litewsko-białoruska republika radziecka\n",
      "wiki-pages-text/wiki-060.txt\n",
      "No keywords found for page_id=Longley,_Sheffield\n",
      "Longley,_Sheffield Longley is a suburb of the City of Sheffield , in South Yorkshire , England . It lies four km north of the city centre and is a residential neighbourhood made up mostly of housing built by Sheffield City Council in the late 1920s . The suburb falls within the Firth Park ward of the City . 'Longley,_Sheffield'\n",
      "wiki-pages-text/wiki-061.txt\n",
      "wiki-pages-text/wiki-062.txt\n",
      "wiki-pages-text/wiki-063.txt\n",
      "wiki-pages-text/wiki-064.txt\n",
      "wiki-pages-text/wiki-065.txt\n",
      "wiki-pages-text/wiki-066.txt\n",
      "wiki-pages-text/wiki-067.txt\n",
      "wiki-pages-text/wiki-068.txt\n",
      "No keywords found for page_id=Money_market_account\n",
      "Money_market_account A money market account -LRB- MMA -RRB- or money market deposit account -LRB- MMDA -RRB- is a deposit account that pays interest based on current interest rates in the money markets . The interest rates paid are generally higher than those of savings accounts and transaction accounts ; however , some banks will require higher minimum balances in money market accounts to avoid monthly fees and to earn interest . Money market accounts should not be confused with money market funds , which are mutual funds that invest in money market securities . 'Money_market_account'\n",
      "wiki-pages-text/wiki-069.txt\n",
      "wiki-pages-text/wiki-070.txt\n",
      "wiki-pages-text/wiki-071.txt\n",
      "wiki-pages-text/wiki-072.txt\n",
      "wiki-pages-text/wiki-073.txt\n",
      "No keywords found for page_id=Ormetica_stenotis\n",
      "Ormetica_stenotis Ormetica stenotis is a moth of the family Erebidae . It was described by Dognin in 1908 . It is found in French Guiana , Guyana , Brazil and Venezuela . 'Ormetica_stenotis'\n",
      "wiki-pages-text/wiki-074.txt\n",
      "wiki-pages-text/wiki-075.txt\n",
      "wiki-pages-text/wiki-076.txt\n",
      "wiki-pages-text/wiki-077.txt\n",
      "wiki-pages-text/wiki-078.txt\n",
      "People's_Democratic_Reform_Committee The People 's Democratic Reform Committee -LRB- PDRC -RRB- or People 's Committee for Absolute Democracy with the King as Head of State -LRB- PCAD -RRB- -LRB- คณะกรรมการประชาชนเพื่อการเปลี่ยนแปลงประเทศไทยให้เป็นประชาธิปไตยที่สมบูรณ์ อันมีพระมหากษัตริย์ทรงเป็นประมุข , กปปส. , literally `` people 's committee for changing Thailand into a complete democracy with the king as head of state '' -RRB- was an umbrella political pressure group in Thailand , aimed at removing the influence of former premier Thaksin Shinawatra from Thai politics and achieve political reforms by an unelected ` People 's Council ' . The group played a leading role in the 2013 -- 14 Thai political crisis , organising large-scale protests within Bangkok . The group was formed on 29 November 2013 by protest leader and former Democrat Party MP Suthep Thaugsuban , who appointed himself as secretary-general . The movement was supported by various organisations including the Democrat Party , the People 's Alliance for Democracy -LRB- a coalition of opposition to Thaksin -RRB- , student activist groups , state worker 's unions and pro-military groups . The PDRC 's support stemmed mostly from affluent Bangkokians and Southerners . Whistle-blowing was a central symbol of the protests . By accusing the government of lacking any legitimacy , Suthep Thaugsuban announced the intention of the People 's Democratic Reform Committee to take back sovereign power from the government and proceed with national reform through a non-elected royalist council , in order to `` eradicate '' the `` Thaksin regime '' . Suthep outlined plans for the council to `` act as a legislative body , amend laws and regulations , as well as carry out a reform plan in the country '' . He also explained the council would have 400 members , 300 of whom would be representatives from various professions . The remaining 100 would be selected by the PDRC from scholars and well-respected senior citizens . The ultimate goal of the PDRC was to have the prime minister Yingluck Shinawatra resign as the head of the caretaker government in order to allow a power vacuum then invoke article 3 `` The sovereign power belongs to the Thai people . The King as Head of State shall exercise such power through the National Assembly , the Council of Ministers and the Courts in accordance with the provisions of this Constitution . '' and article 7 `` Whenever no provision under this Constitution is applicable to any case , it shall be decided in accordance with the constitutional convention in the democratic regime of government with the King as Head of State . '' of the 2007 Constitution . This would have allowed the head of the senate to appoint a new premier . Yingluck and nine other senior ministers were removed from office by Constitutional Court on 7 May 2014 . The military then seized power in a coup d'état on 22 May , a move which was applauded by many PDRC protesters . The PDRC was disbanded shortly after the coup . Term too long (> 245): K(คณะกรรมการประชาชนเพื่อการเปลี่ยนแปลงประเทศไทยให้เป็นประชาธิปไตยที่สมบูรณ์ อันมีพระมหากษัตริย์ทรงเป็นประมุข\n"
     ]
    },
    {
     "name": "stdout",
     "output_type": "stream",
     "text": [
      "wiki-pages-text/wiki-079.txt\n",
      "wiki-pages-text/wiki-080.txt\n",
      "wiki-pages-text/wiki-081.txt\n",
      "wiki-pages-text/wiki-082.txt\n",
      "wiki-pages-text/wiki-083.txt\n",
      "wiki-pages-text/wiki-084.txt\n",
      "Rotenberg_Law The Rotenberg Law - the draft of Federal law of Russian Federation # 607554-6 On amendments to the Federal law `` On compensation for violation of the right to trial within a reasonable time or the right to execution of a judicial act within a reasonable time '' -LRB- clarification of certain provisions of the Federal law in regard to obtaining compensation for the violation of the right to execution of a judicial act within a reasonable time -RRB- . The law is informally named after a Russian businessman Arkady Rotenberg , after Italy has frozen nearly $ 40 million in assets held The bill proposes seizing the Russia-based assets of foreign countries that have sanctioned Russian citizens . Term too long (> 245): Kthe federal law `` on compensation for violation of the right to trial within a reasonable time or the right to execution of a judicial act within a reasonable time'' (clarification of certain provisions of the federal law in regard to obtaining compensation for the violation of the right to execution of a judicial act within a reasonable time) .\n",
      "wiki-pages-text/wiki-085.txt\n",
      "wiki-pages-text/wiki-086.txt\n",
      "No keywords found for page_id=Saadatabad_Rural_District\n",
      "Saadatabad_Rural_District Saadatabad Rural District is a rural district -LRB- dehestan -RRB- in Pariz District , Sirjan County , Kerman Province , Iran . At the 2006 census , its population was 5,790 , in 1,341 families . The rural district has 45 villages . 'Saadatabad_Rural_District'\n",
      "wiki-pages-text/wiki-087.txt\n",
      "wiki-pages-text/wiki-088.txt\n",
      "wiki-pages-text/wiki-089.txt\n",
      "wiki-pages-text/wiki-090.txt\n",
      "wiki-pages-text/wiki-091.txt\n",
      "wiki-pages-text/wiki-092.txt\n",
      "wiki-pages-text/wiki-093.txt\n",
      "wiki-pages-text/wiki-094.txt\n",
      "wiki-pages-text/wiki-095.txt\n",
      "wiki-pages-text/wiki-096.txt\n",
      "wiki-pages-text/wiki-097.txt\n",
      "wiki-pages-text/wiki-098.txt\n",
      "Timișoara_metropolitan_area The Metropolitan Zone of Timișoara is an undergoing project for the creation of an administrative unit to integrate Timișoara with the nearby communes : Becicherecu Mic , Bucovăț , Biled , Chevereșu Mare , Dudeștii Noi , Dudeștii Vechi , Dumbrăvița , Ghiroda , Giarmata , Giroc , Jebel , Liebling , Moșnița Nouă , Mașloc , Orțișoara , Parța , Pădureni , Pișchia , Peciu Nou , Remetea Mare , Sacoșu Turcesc , Șag , Săcălaz , Sânandrei , Sânmihaiu Român și Satchinez . Term too long (> 245): Kbecicherecu mic, bucovăț, biled, chevereșu mare, dudeștii noi, dudeștii vechi, dumbrăvița, ghiroda, giarmata, giroc, jebel, liebling, moșnița nouă, mașloc, orțișoara, parța, pădureni, pișchia, peciu nou, remetea mare, sacoșu turcesc, șag, săcălaz, sânandrei, sânmihaiu român și satchinez\n",
      "wiki-pages-text/wiki-099.txt\n",
      "wiki-pages-text/wiki-100.txt\n",
      "No keywords found for page_id=TreadWright\n",
      "TreadWright TreadWright is an American tire company based in Houston . It manufactures medium and light truck tires by remolding , with 70 percent recycled content . TreadWright was named the 2016 green company of the year by Business Intelligence Group . 'TreadWright'\n",
      "wiki-pages-text/wiki-101.txt\n",
      "wiki-pages-text/wiki-102.txt\n",
      "wiki-pages-text/wiki-103.txt\n",
      "No keywords found for page_id=Vic_Manuel\n",
      "Vic_Manuel Victorino Aranas `` Vic '' Manuel -LRB- born June 18 , 1987 -RRB- is a Filipino professional basketball player who plays for the Alaska Aces in the Philippine Basketball Association . 'Vic_Manuel'\n",
      "wiki-pages-text/wiki-104.txt\n",
      "wiki-pages-text/wiki-105.txt\n",
      "wiki-pages-text/wiki-106.txt\n",
      "wiki-pages-text/wiki-107.txt\n",
      "wiki-pages-text/wiki-108.txt\n",
      "wiki-pages-text/wiki-109.txt\n",
      "CPU times: user 1h 8min 31s, sys: 1h 56min 7s, total: 3h 4min 38s\n",
      "Wall time: 4h 33min 59s\n"
     ]
    }
   ],
   "source": [
    "%%time\n",
    "# Create or open the database we're going to be writing to.\n",
    "db = xapian.WritableDatabase(DBPATH, xapian.DB_CREATE_OR_OPEN)\n",
    "\n",
    "# Set up a TermGenerator that we'll use in indexing.\n",
    "termgenerator = xapian.TermGenerator()\n",
    "termgenerator.set_stemmer(xapian.Stem(\"en\"))\n",
    "\n",
    "for path in sorted(files[1:]):\n",
    "    shard = \"\"\n",
    "    m = re.match(\".*wiki-(\\d+).*\", path)\n",
    "    if m: shard = m[1]\n",
    "    print(path)\n",
    "    \n",
    "    documents_df = read_shard_as_df(zf, path)\n",
    "    keywords_dict = read_ner_data(shard)\n",
    "    for doc_id, text in documents_df.items():\n",
    "        try:\n",
    "            # We make a document and tell the term generator to use this.\n",
    "            doc = xapian.Document()\n",
    "            termgenerator.set_document(doc)\n",
    "\n",
    "            # Index fields without prefixes for general search.\n",
    "            termgenerator.index_text(text)\n",
    "            termgenerator.increase_termpos()\n",
    "\n",
    "            # We use the identifier to ensure each object ends up in the\n",
    "            # database only once no matter how many times we run the\n",
    "            # indexer.\n",
    "            idterm = u\"Q\" + doc_id\n",
    "            doc.add_boolean_term(idterm)\n",
    "\n",
    "            # Indexing keywords\n",
    "            keywords = []\n",
    "            if doc_id in keywords_dict:\n",
    "                keywords = list(keywords_dict[doc_id])\n",
    "            else:\n",
    "                print(\"No keywords found for page_id={}\".format(doc_id))\n",
    "                \n",
    "            for item in keywords_dict[doc_id]:\n",
    "                doc.add_term(u\"K\" + item.lower())\n",
    "                #doc.add_term(u\"K:\" + item)\n",
    "\n",
    "            # save additional data\n",
    "            data = dict(\n",
    "                doc_id = doc_id,\n",
    "                shard = shard,\n",
    "                text = text,\n",
    "                keywords = keywords,\n",
    "            )\n",
    "            doc.set_data(json.dumps(data))\n",
    "\n",
    "            db.replace_document(idterm, doc)\n",
    "        except Exception as e:\n",
    "            print(doc_id, text, e)\n",
    "db.commit()\n",
    "db.close()"
   ]
  },
  {
   "cell_type": "code",
   "execution_count": 12,
   "metadata": {},
   "outputs": [
    {
     "name": "stdout",
     "output_type": "stream",
     "text": [
      "UUID = 264d9bea-55c9-4caf-9979-abe630f0809a\r\n",
      "number of documents = 5365408\r\n",
      "average document length = 178.465\r\n",
      "document length lower bound = 1\r\n",
      "document length upper bound = 68701\r\n",
      "highest document id ever used = 5365408\r\n",
      "has positional information = true\r\n",
      "revision = 537\r\n",
      "currently open for writing = false\r\n"
     ]
    }
   ],
   "source": [
    "!xapian-delve $DBPATH"
   ]
  },
  {
   "cell_type": "code",
   "execution_count": 13,
   "metadata": {},
   "outputs": [
    {
     "name": "stdout",
     "output_type": "stream",
     "text": [
      "Data for record #3129:\r\n",
      "{\"doc_id\": \"11th_Gemini_Awards\", \"shard\": \"001\", \"text\": \"The 11th Gemini Awards was held on June 6 , 1997 , to honour achievements in Canadian television . It was hosted by Albert Schultz , and was broadcast on CBC .\", \"keywords\": [\"Awards\", \"television\", \"June 6, 1997\", \"Gemini Awards\", \"Canadian\", \"11th\", \"Canadian television\", \"The 11th Gemini Awards\", \"achievements\", \"June\"]}\r\n",
      "Term List for record #3129: 11th 1997 6 K11th Kachievements Kawards Kcanadian Kcanadian television Kgemini awards Kjune Kjune 6, 1997 Ktelevision Kthe 11th gemini awards Q11th_Gemini_Awards Zachiev Zalbert Zand Zaward Zbroadcast Zby Zcanadian Zcbc Zgemini Zheld Zhonour Zhost Zin Zit Zjune Zon Zschultz Ztelevis Zthe Zto Zwas achievements albert and awards broadcast by canadian cbc gemini held honour hosted in it june on schultz television the to was\r\n"
     ]
    }
   ],
   "source": [
    "!xapian-delve -r 3129 -d $DBPATH"
   ]
  },
  {
   "cell_type": "code",
   "execution_count": null,
   "metadata": {},
   "outputs": [],
   "source": []
  }
 ],
 "metadata": {
  "hide_input": false,
  "kernelspec": {
   "display_name": "Python 3",
   "language": "python",
   "name": "python3"
  },
  "language_info": {
   "codemirror_mode": {
    "name": "ipython",
    "version": 3
   },
   "file_extension": ".py",
   "mimetype": "text/x-python",
   "name": "python",
   "nbconvert_exporter": "python",
   "pygments_lexer": "ipython3",
   "version": "3.6.7"
  },
  "toc": {
   "nav_menu": {},
   "number_sections": true,
   "sideBar": true,
   "skip_h1_title": false,
   "toc_cell": false,
   "toc_position": {},
   "toc_section_display": true,
   "toc_window_display": true
  }
 },
 "nbformat": 4,
 "nbformat_minor": 2
}
