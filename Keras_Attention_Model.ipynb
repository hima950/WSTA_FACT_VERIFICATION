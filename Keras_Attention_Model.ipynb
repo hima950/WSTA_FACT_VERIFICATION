{
 "cells": [
  {
   "cell_type": "markdown",
   "metadata": {},
   "source": [
    "# Imports and Intialisation"
   ]
  },
  {
   "cell_type": "code",
   "execution_count": 1,
   "metadata": {},
   "outputs": [
    {
     "name": "stderr",
     "output_type": "stream",
     "text": [
      "Using TensorFlow backend.\n"
     ]
    }
   ],
   "source": [
    "from numpy import array\n",
    "from numpy import asarray\n",
    "from numpy import zeros\n",
    "import spacy\n",
    "import json\n",
    "from keras.utils import np_utils \n",
    "from keras.layers import LSTM, Bidirectional\n",
    "from keras.utils import to_categorical\n",
    "from keras.callbacks import EarlyStopping,ModelCheckpoint"
   ]
  },
  {
   "cell_type": "code",
   "execution_count": 2,
   "metadata": {},
   "outputs": [],
   "source": [
    "import warnings\n",
    "warnings.filterwarnings('ignore')"
   ]
  },
  {
   "cell_type": "code",
   "execution_count": 3,
   "metadata": {},
   "outputs": [],
   "source": [
    "from keras.preprocessing.text import Tokenizer\n",
    "from keras.preprocessing.sequence import pad_sequences\n",
    "from keras.models import Sequential\n",
    "from keras.layers import Dense\n",
    "from keras.layers import Flatten\n",
    "from keras.layers import Embedding\n",
    "import keras.layers"
   ]
  },
  {
   "cell_type": "code",
   "execution_count": 4,
   "metadata": {},
   "outputs": [],
   "source": [
    "from keras.models import *\n",
    "import numpy as np\n",
    "import pandas as pd\n",
    "from keras import layers, models, optimizers\n",
    "from keras import backend as K"
   ]
  },
  {
   "cell_type": "code",
   "execution_count": 5,
   "metadata": {},
   "outputs": [],
   "source": [
    "import matplotlib.pyplot as plt\n",
    "%matplotlib inline"
   ]
  },
  {
   "cell_type": "code",
   "execution_count": 6,
   "metadata": {},
   "outputs": [],
   "source": [
    "# Here we define the system config we want to run the Model on \n",
    "import tensorflow as tf\n",
    "import keras\n",
    "config = tf.ConfigProto( device_count = {'GPU': 1 , 'CPU': 6} ) \n",
    "sess = tf.Session(config=config) \n",
    "K.set_session(sess)"
   ]
  },
  {
   "cell_type": "code",
   "execution_count": 7,
   "metadata": {},
   "outputs": [],
   "source": [
    "# Define the Important settings and Variables\n",
    "HIDDEN_DIM = 20\n",
    "MAX_SEQ_LEN = 400\n",
    "NR_CLASS = 2\n",
    "NR_HIDDEN = 16"
   ]
  },
  {
   "cell_type": "code",
   "execution_count": 8,
   "metadata": {},
   "outputs": [],
   "source": [
    "from utils import *"
   ]
  },
  {
   "cell_type": "markdown",
   "metadata": {},
   "source": [
    "Below is snippet for Stratified split to get a held out set for validation"
   ]
  },
  {
   "cell_type": "raw",
   "metadata": {},
   "source": [
    "import pandas as pd\n",
    "\n",
    "df = pd.read_csv(\"train_labels_evd_concated.csv\")\n",
    "\n",
    "X = df[[\"claim\",\"evidence\"]]\n",
    "y = df[\"label\"]\n",
    "\n",
    "from sklearn.model_selection import train_test_split\n",
    "X_train, X_test, y_train, y_test = train_test_split(X, y,\n",
    "                                                    stratify=y, \n",
    "                                                    test_size=0.1)\n",
    "\n",
    "train = pd.DataFrame()\n",
    "train[[\"claim\",\"evidence\"]] = X_train\n",
    "train[\"label\"] = y_train\n",
    "test = pd.DataFrame()\n",
    "test[[\"claim\",\"evidence\"]] = X_test\n",
    "test[\"label\"] = y_test\n",
    "\n",
    "train.to_csv(\"train_labels_concated.csv\",index=False)\n",
    "test.to_csv(\"heldout_labels_concated.csv\",index=False)"
   ]
  },
  {
   "cell_type": "markdown",
   "metadata": {},
   "source": [
    "Below are some functions for reading different formats"
   ]
  },
  {
   "cell_type": "raw",
   "metadata": {},
   "source": [
    "def read_data_set(file = \"train_labels_evd_concated.json\"):\n",
    "    with open(file) as train_file:\n",
    "        dev = json.load(train_file)\n",
    "    claims = []\n",
    "    evidences = []\n",
    "    labels = []\n",
    "    \n",
    "    for key,item in dev.items():\n",
    "        claims.append(item[\"claim\"])\n",
    "        evidences.append(item[\"evidence\"])\n",
    "        labels.append(item[\"label\"])\n",
    "    return claims, evidences, np.asarray(labels)"
   ]
  },
  {
   "cell_type": "code",
   "execution_count": 9,
   "metadata": {},
   "outputs": [],
   "source": [
    "def read_data_set(file=\"train_labels_concated.csv\"):\n",
    "    df = pd.read_csv(file)\n",
    "    claims = list(df[\"claim\"])\n",
    "    evidences = list(df[\"evidence\"])\n",
    "    labels = list(df[\"label\"])\n",
    "    return claims, evidences, np.asarray(labels)\n",
    "    "
   ]
  },
  {
   "cell_type": "raw",
   "metadata": {},
   "source": [
    "claims, evidences, labels = read_data_set()"
   ]
  },
  {
   "cell_type": "markdown",
   "metadata": {},
   "source": [
    "This is optional way of vectorizing the sentences"
   ]
  },
  {
   "cell_type": "raw",
   "metadata": {},
   "source": [
    "# define documents\n",
    "docs = claims + evidences\n",
    "# prepare tokenizer\n",
    "t = Tokenizer()\n",
    "t.fit_on_texts(docs)\n",
    "vocab_size = len(t.word_index) + 1\n",
    "print(\"Total Vocab Size: \",vocab_size)\n",
    "# integer encode the documents\n",
    "encoded_docs = t.texts_to_sequences(docs)\n",
    "# pad documents to a max length of 4 words\n",
    "padded_docs = pad_sequences(encoded_docs, maxlen=MAX_SEQ_LEN, padding='post')"
   ]
  },
  {
   "cell_type": "raw",
   "metadata": {},
   "source": [
    "[padded_docs[:len(docs)] ,padded_docs[len(docs):]]"
   ]
  },
  {
   "cell_type": "raw",
   "metadata": {},
   "source": [
    "# load the whole embedding into memory\n",
    "embeddings_index = dict()\n",
    "f = open('../Downloads/glove/glove.6B.100d.txt')\n",
    "for line in f:\n",
    "    values = line.split()\n",
    "    word = values[0]\n",
    "    coefs = asarray(values[1:], dtype='float32')\n",
    "    embeddings_index[word] = coefs\n",
    "f.close()\n"
   ]
  },
  {
   "cell_type": "raw",
   "metadata": {},
   "source": [
    "# create a weight matrix for words in training docs\n",
    "embedding_matrix = zeros((vocab_size, 100))\n",
    "for word, i in t.word_index.items():\n",
    "    embedding_vector = embeddings_index.get(word)\n",
    "    if embedding_vector is not None:\n",
    "        embedding_matrix[i] = embedding_vector"
   ]
  },
  {
   "cell_type": "raw",
   "metadata": {},
   "source": [
    "embedding_matrix.shape"
   ]
  },
  {
   "cell_type": "markdown",
   "metadata": {},
   "source": [
    "\n",
    "# Utils Functions for Embedding and Modelling"
   ]
  },
  {
   "cell_type": "markdown",
   "metadata": {},
   "source": [
    "Below are the util functions modified and borrowed from the Spacy source code for Model Building"
   ]
  },
  {
   "cell_type": "code",
   "execution_count": 10,
   "metadata": {},
   "outputs": [],
   "source": [
    "def get_embeddings(vocab, nr_unk=100):\n",
    "    # the extra +1 is for a zero vector representing sentence-final padding\n",
    "    num_vectors = max(lex.rank for lex in vocab) + 2 \n",
    "    \n",
    "    # create random vectors for OOV tokens\n",
    "    oov = np.random.normal(size=(nr_unk, vocab.vectors_length))\n",
    "    oov = oov / oov.sum(axis=1, keepdims=True)\n",
    "    \n",
    "    vectors = np.zeros((num_vectors + nr_unk, vocab.vectors_length), dtype='float32')\n",
    "    vectors[1:(nr_unk + 1), ] = oov\n",
    "    for lex in vocab:\n",
    "        if lex.has_vector and lex.vector_norm > 0:\n",
    "            vectors[nr_unk + lex.rank + 1] = lex.vector / lex.vector_norm \n",
    "\n",
    "    return vectors"
   ]
  },
  {
   "cell_type": "code",
   "execution_count": 11,
   "metadata": {},
   "outputs": [],
   "source": [
    "def create_embedding(vectors, max_length, projected_dim):\n",
    "    return models.Sequential(\n",
    "        [\n",
    "            layers.Embedding(\n",
    "                vectors.shape[0],\n",
    "                vectors.shape[1],\n",
    "                input_length=max_length,\n",
    "                weights=[vectors],\n",
    "                trainable=False,\n",
    "            ),\n",
    "            layers.TimeDistributed(\n",
    "                layers.Dense(projected_dim, activation=None, bias=False)\n",
    "            ),\n",
    "        ]\n",
    "    )"
   ]
  },
  {
   "cell_type": "code",
   "execution_count": 12,
   "metadata": {},
   "outputs": [],
   "source": [
    "def build_model(vectors, shape, settings):\n",
    "    max_length, nr_hidden, nr_class = shape\n",
    "\n",
    "    input1 = layers.Input(shape=(max_length,), dtype=\"int32\", name=\"claim\")\n",
    "    input2 = layers.Input(shape=(max_length,), dtype=\"int32\", name=\"evidence\")\n",
    "\n",
    "    # embeddings (projected)\n",
    "    embed = create_embedding(vectors, max_length, nr_hidden)\n",
    "\n",
    "    a = embed(input1)\n",
    "    b = embed(input2)\n",
    "\n",
    "    # step 1: attend\n",
    "    #F = create_feedforward(nr_hidden)\n",
    "    B = Bidirectional(LSTM(nr_hidden, return_sequences=True, dropout=0.2))\n",
    "    att_weights = layers.dot([B(a), B(b)], axes=-1)\n",
    "\n",
    "    G = create_feedforward(nr_hidden)\n",
    "\n",
    "    norm_weights_a = layers.Lambda(normalizer(1))(att_weights)\n",
    "    norm_weights_b = layers.Lambda(normalizer(2))(att_weights)\n",
    "    alpha = layers.dot([norm_weights_a, a], axes=1)\n",
    "    beta = layers.dot([norm_weights_b, b], axes=1)\n",
    "\n",
    "    # step 2: compare\n",
    "    comp1 = layers.concatenate([a, beta])\n",
    "    comp2 = layers.concatenate([b, alpha])\n",
    "    print(comp1.shape,comp2.shape)\n",
    "    \n",
    "\n",
    "    feed_forward2 = models.Sequential(\n",
    "                        [\n",
    "                            layers.Dense(output_dim=8, activation=\"relu\",input_dim=32),\n",
    "                            layers.Dropout(0.2),\n",
    "                            layers.Dense(output_dim=8, activation=\"relu\"),\n",
    "                            layers.Dropout(0.2),\n",
    "                        ],name=\"FeedForward Layer2\")\n",
    "        \n",
    "    #v1 = layers.TimeDistributed(Dense(output_dim=8))(comp1)\n",
    "    #v2 = layers.TimeDistributed(Dense(output_dim=8))(comp2)\n",
    "    v1 = layers.TimeDistributed(feed_forward2)(comp1)\n",
    "    v2 = layers.TimeDistributed(feed_forward2)(comp2)\n",
    "\n",
    "    # step 3: aggregate\n",
    "    v1_sum = layers.Lambda(sum_word)(v1)\n",
    "    v2_sum = layers.Lambda(sum_word)(v2)\n",
    "    concat = layers.concatenate([v1_sum, v2_sum])\n",
    "\n",
    "\n",
    "    H = create_feedforward(nr_hidden)\n",
    "    out = H(concat)\n",
    "    out = layers.Dense(nr_class, activation=\"softmax\")(out)\n",
    "\n",
    "    model = Model([input1, input2], out)\n",
    "\n",
    "    model.compile(\n",
    "        optimizer=optimizers.Adam(lr=settings[\"lr\"]),\n",
    "        loss=\"categorical_crossentropy\",\n",
    "        metrics=[\"accuracy\"],\n",
    "    )\n",
    "\n",
    "    return model"
   ]
  },
  {
   "cell_type": "code",
   "execution_count": 13,
   "metadata": {},
   "outputs": [],
   "source": [
    "\n",
    "nlp = spacy.load(\"en_vectors_web_lg\")"
   ]
  },
  {
   "cell_type": "code",
   "execution_count": 14,
   "metadata": {},
   "outputs": [],
   "source": [
    "def create_dataset(nlp, texts, hypotheses, num_unk, max_length):\n",
    "    sents = texts + hypotheses\n",
    "    sents_as_ids = []\n",
    "    for sent in sents:\n",
    "        doc = nlp(sent)\n",
    "        word_ids = []\n",
    "        for i, token in enumerate(doc):\n",
    "            # skip odd spaces from tokenizer\n",
    "            if token.has_vector and token.vector_norm == 0:\n",
    "                continue\n",
    "\n",
    "            if i > max_length:\n",
    "                break\n",
    "\n",
    "            if token.has_vector:\n",
    "                word_ids.append(token.rank + num_unk + 1)\n",
    "            else:\n",
    "                word_ids.append(token.rank % num_unk + 1)\n",
    "\n",
    "        word_id_vec = np.zeros((max_length), dtype=\"int\")\n",
    "        clipped_len = min(max_length, len(word_ids))\n",
    "        word_id_vec[:clipped_len] = word_ids[:clipped_len]\n",
    "        sents_as_ids.append(word_id_vec)\n",
    "\n",
    "    return [np.array(sents_as_ids[: len(texts)]), np.array(sents_as_ids[len(texts) :])]\n"
   ]
  },
  {
   "cell_type": "raw",
   "metadata": {},
   "source": [
    "def create_dataset(nlp, claims, hypotheses, max_length):\n",
    "    # define documents\n",
    "    docs = claims + evidences\n",
    "    # prepare tokenizer\n",
    "    t = Tokenizer()\n",
    "    t.fit_on_texts(docs)\n",
    "    vocab_size = len(t.word_index) + 1\n",
    "    print(\"Total Vocab Size: \",vocab_size)\n",
    "    # integer encode the documents\n",
    "    encoded_docs = t.texts_to_sequences(docs)\n",
    "    # pad documents to a max length of 4 words\n",
    "    padded_docs = pad_sequences(encoded_docs, maxlen=max_length, padding='post')\n",
    "    return [padded_docs[: len(docs)] ,padded_docs[len(docs) : ]]"
   ]
  },
  {
   "cell_type": "code",
   "execution_count": 15,
   "metadata": {},
   "outputs": [],
   "source": [
    "def create_feedforward(num_units=200, activation=\"relu\", dropout_rate=0.2):\n",
    "    return models.Sequential(\n",
    "        [\n",
    "            layers.Dense(num_units, activation=activation,input_dim=NR_HIDDEN),\n",
    "            layers.Dropout(dropout_rate),\n",
    "            layers.Dense(num_units, activation=activation),\n",
    "            layers.Dropout(dropout_rate),\n",
    "        ]\n",
    "    )\n",
    "\n",
    "\n",
    "def normalizer(axis):\n",
    "    def _normalize(att_weights):\n",
    "        exp_weights = K.exp(att_weights)\n",
    "        sum_weights = K.sum(exp_weights, axis=axis, keepdims=True)\n",
    "        return exp_weights / sum_weights\n",
    "\n",
    "    return _normalize\n",
    "\n",
    "\n",
    "def sum_word(x):\n",
    "    return K.sum(x, axis=1)"
   ]
  },
  {
   "cell_type": "code",
   "execution_count": 16,
   "metadata": {},
   "outputs": [],
   "source": [
    "# Bulding the Model"
   ]
  },
  {
   "cell_type": "code",
   "execution_count": 17,
   "metadata": {},
   "outputs": [],
   "source": [
    "# choice to random sample a data set"
   ]
  },
  {
   "cell_type": "code",
   "execution_count": 18,
   "metadata": {},
   "outputs": [],
   "source": [
    "import random"
   ]
  },
  {
   "cell_type": "raw",
   "metadata": {},
   "source": [
    "train_claims, train_evidence, train_labels = read_data_set()\n",
    "c = list(zip(train_claims, train_evidence,train_labels))\n",
    "random.shuffle(c)\n",
    "train_claims, train_evidence,train_labels = zip(*c)"
   ]
  },
  {
   "cell_type": "raw",
   "metadata": {},
   "source": [
    "train_claims = train_claims[:100]\n",
    "train_evidence = train_evidence[:100]\n",
    "train_labels = train_labels[:100]"
   ]
  },
  {
   "cell_type": "code",
   "execution_count": null,
   "metadata": {},
   "outputs": [],
   "source": [
    "# max_length, nr_hidden, nr_class is the shape\n",
    "train_claims, train_evidence, train_labels = read_data_set()\n",
    "shape = (MAX_SEQ_LEN, NR_HIDDEN, 2)\n",
    "settings = {\"lr\": 0.001, \"dropout\": 0.2}"
   ]
  },
  {
   "cell_type": "code",
   "execution_count": 20,
   "metadata": {},
   "outputs": [],
   "source": [
    "train_X = create_dataset(nlp, train_claims, train_evidence,100,shape[0])"
   ]
  },
  {
   "cell_type": "code",
   "execution_count": 21,
   "metadata": {
    "scrolled": true
   },
   "outputs": [
    {
     "name": "stdout",
     "output_type": "stream",
     "text": [
      "WARNING:tensorflow:From /home/herla/.local/lib/python3.5/site-packages/tensorflow/python/framework/op_def_library.py:263: colocate_with (from tensorflow.python.framework.ops) is deprecated and will be removed in a future version.\n",
      "Instructions for updating:\n",
      "Colocations handled automatically by placer.\n",
      "WARNING:tensorflow:From /home/herla/.local/lib/python3.5/site-packages/keras/backend/tensorflow_backend.py:3445: calling dropout (from tensorflow.python.ops.nn_ops) with keep_prob is deprecated and will be removed in a future version.\n",
      "Instructions for updating:\n",
      "Please use `rate` instead of `keep_prob`. Rate should be set to `rate = 1 - keep_prob`.\n",
      "(?, 400, 32) (?, 400, 32)\n"
     ]
    }
   ],
   "source": [
    "model = build_model(get_embeddings(nlp.vocab), shape, settings)"
   ]
  },
  {
   "cell_type": "code",
   "execution_count": 22,
   "metadata": {},
   "outputs": [],
   "source": [
    "LABELS = []\n",
    "for item in train_labels:\n",
    "    if item == \"SUPPORTS\":\n",
    "        LABELS.append(1)\n",
    "    else:\n",
    "        LABELS.append(0)"
   ]
  },
  {
   "cell_type": "code",
   "execution_count": 23,
   "metadata": {},
   "outputs": [
    {
     "name": "stdout",
     "output_type": "stream",
     "text": [
      "WARNING:tensorflow:From /home/herla/.local/lib/python3.5/site-packages/tensorflow/python/ops/math_ops.py:3066: to_int32 (from tensorflow.python.ops.math_ops) is deprecated and will be removed in a future version.\n",
      "Instructions for updating:\n",
      "Use tf.cast instead.\n",
      "Train on 68671 samples, validate on 29431 samples\n",
      "Epoch 1/12\n",
      "68671/68671 [==============================] - 2375s 35ms/step - loss: 0.5674 - acc: 0.7411 - val_loss: 0.4652 - val_acc: 0.8152\n",
      "Epoch 2/12\n",
      "68671/68671 [==============================] - 2320s 34ms/step - loss: 0.4712 - acc: 0.8105 - val_loss: 0.4345 - val_acc: 0.8254\n",
      "Epoch 3/12\n",
      "68671/68671 [==============================] - 2272s 33ms/step - loss: 0.4365 - acc: 0.8216 - val_loss: 0.4184 - val_acc: 0.8293\n",
      "Epoch 4/12\n",
      "68671/68671 [==============================] - 2272s 33ms/step - loss: 0.4175 - acc: 0.8286 - val_loss: 0.4078 - val_acc: 0.8337\n",
      "Epoch 5/12\n",
      "68671/68671 [==============================] - 2273s 33ms/step - loss: 0.4084 - acc: 0.8319 - val_loss: 0.4042 - val_acc: 0.8333\n",
      "Epoch 6/12\n",
      "68671/68671 [==============================] - 2276s 33ms/step - loss: 0.4016 - acc: 0.8351 - val_loss: 0.4001 - val_acc: 0.8378\n",
      "Epoch 7/12\n",
      "68671/68671 [==============================] - 2274s 33ms/step - loss: 0.3962 - acc: 0.8376 - val_loss: 0.3976 - val_acc: 0.8396\n",
      "Epoch 8/12\n",
      "68671/68671 [==============================] - 2275s 33ms/step - loss: 0.3930 - acc: 0.8395 - val_loss: 0.3936 - val_acc: 0.8385\n",
      "Epoch 9/12\n",
      "68671/68671 [==============================] - 2272s 33ms/step - loss: 0.3913 - acc: 0.8395 - val_loss: 0.3905 - val_acc: 0.8399\n",
      "Epoch 10/12\n",
      "68671/68671 [==============================] - 2272s 33ms/step - loss: 0.3871 - acc: 0.8422 - val_loss: 0.3907 - val_acc: 0.8415\n",
      "Epoch 11/12\n",
      "68671/68671 [==============================] - 2272s 33ms/step - loss: 0.3853 - acc: 0.8420 - val_loss: 0.3878 - val_acc: 0.8408\n",
      "Epoch 12/12\n",
      "68671/68671 [==============================] - 2273s 33ms/step - loss: 0.3825 - acc: 0.8426 - val_loss: 0.3879 - val_acc: 0.8421\n",
      "CPU times: user 13h 38min 45s, sys: 3h 7min 2s, total: 16h 45min 48s\n",
      "Wall time: 7h 38min 46s\n"
     ]
    }
   ],
   "source": [
    "%%time\n",
    "train_labels = to_categorical(LABELS, num_classes=2)\n",
    "# call back for early stopping \n",
    "checkpoints = [EarlyStopping(monitor='val_loss',verbose=1,mode='min',patience=4),\n",
    "                 ModelCheckpoint('keras_model.h5', save_best_only=True, monitor='val_loss', mode='min')]\n",
    "r = model.fit(\n",
    "    train_X,\n",
    "    train_labels,\n",
    "    validation_split=0.3,\n",
    "    batch_size=76,\n",
    "    epochs=12,\n",
    "    callbacks= checkpoints)"
   ]
  },
  {
   "cell_type": "code",
   "execution_count": null,
   "metadata": {},
   "outputs": [],
   "source": []
  },
  {
   "cell_type": "raw",
   "metadata": {},
   "source": [
    "model.summary()"
   ]
  },
  {
   "cell_type": "code",
   "execution_count": 32,
   "metadata": {},
   "outputs": [],
   "source": [
    "# TESTING using the held out set "
   ]
  },
  {
   "cell_type": "code",
   "execution_count": 39,
   "metadata": {},
   "outputs": [],
   "source": [
    "test_claims, test_evidence, test_labels = read_data_set(file=\"heldout_labels_concated.csv\")"
   ]
  },
  {
   "cell_type": "code",
   "execution_count": 40,
   "metadata": {},
   "outputs": [],
   "source": [
    "labels = []\n",
    "for item in test_labels:\n",
    "    if item == \"SUPPORTS\":\n",
    "        labels.append(1)\n",
    "    else:\n",
    "        labels.append(0)"
   ]
  },
  {
   "cell_type": "code",
   "execution_count": 41,
   "metadata": {},
   "outputs": [],
   "source": [
    "test_X = create_dataset(nlp, test_claims, test_evidence,100,shape[0])\n",
    "test_labels = to_categorical(np.array(labels), num_classes=2)"
   ]
  },
  {
   "cell_type": "code",
   "execution_count": 43,
   "metadata": {},
   "outputs": [
    {
     "name": "stdout",
     "output_type": "stream",
     "text": [
      "10901/10901 [==============================] - 133s 12ms/step\n"
     ]
    },
    {
     "data": {
      "text/plain": [
       "[0.38300282557003434, 0.841941107796831]"
      ]
     },
     "execution_count": 43,
     "metadata": {},
     "output_type": "execute_result"
    }
   ],
   "source": [
    "model.evaluate(test_X,test_labels,batch_size=76)"
   ]
  },
  {
   "cell_type": "markdown",
   "metadata": {},
   "source": [
    "### Actual model predictions "
   ]
  },
  {
   "cell_type": "code",
   "execution_count": 19,
   "metadata": {},
   "outputs": [
    {
     "name": "stdout",
     "output_type": "stream",
     "text": [
      "WARNING:tensorflow:From /home/herla/.local/lib/python3.5/site-packages/tensorflow/python/framework/op_def_library.py:263: colocate_with (from tensorflow.python.framework.ops) is deprecated and will be removed in a future version.\n",
      "Instructions for updating:\n",
      "Colocations handled automatically by placer.\n",
      "WARNING:tensorflow:From /home/herla/.local/lib/python3.5/site-packages/keras/backend/tensorflow_backend.py:3445: calling dropout (from tensorflow.python.ops.nn_ops) with keep_prob is deprecated and will be removed in a future version.\n",
      "Instructions for updating:\n",
      "Please use `rate` instead of `keep_prob`. Rate should be set to `rate = 1 - keep_prob`.\n",
      "WARNING:tensorflow:From /home/herla/.local/lib/python3.5/site-packages/tensorflow/python/ops/math_ops.py:3066: to_int32 (from tensorflow.python.ops.math_ops) is deprecated and will be removed in a future version.\n",
      "Instructions for updating:\n",
      "Use tf.cast instead.\n"
     ]
    }
   ],
   "source": [
    "from keras.models import load_model\n",
    "model = load_model('keras_model.h5')"
   ]
  },
  {
   "cell_type": "code",
   "execution_count": 20,
   "metadata": {},
   "outputs": [],
   "source": [
    "file=\"final_label_test_df.csv\"\n",
    "df = pd.read_csv(file)\n",
    "claims = list(df[\"claim\"])\n",
    "evidences = list(df[\"evidence\"])\n",
    "test_claims, test_evidence = claims, evidences"
   ]
  },
  {
   "cell_type": "code",
   "execution_count": 21,
   "metadata": {},
   "outputs": [],
   "source": [
    "shape = (MAX_SEQ_LEN, NR_HIDDEN, 2)\n",
    "test_X = create_dataset(nlp, test_claims, test_evidence,100,shape[0])"
   ]
  },
  {
   "cell_type": "code",
   "execution_count": 22,
   "metadata": {},
   "outputs": [
    {
     "data": {
      "text/plain": [
       "(10082, 3)"
      ]
     },
     "execution_count": 22,
     "metadata": {},
     "output_type": "execute_result"
    }
   ],
   "source": [
    "df.shape"
   ]
  },
  {
   "cell_type": "code",
   "execution_count": 23,
   "metadata": {},
   "outputs": [
    {
     "name": "stdout",
     "output_type": "stream",
     "text": [
      "10082/10082 [==============================] - 124s 12ms/step\n"
     ]
    }
   ],
   "source": [
    "y_pred = model.predict(test_X,verbose=1,batch_size=76)"
   ]
  },
  {
   "cell_type": "code",
   "execution_count": 24,
   "metadata": {},
   "outputs": [],
   "source": [
    "y_classes = y_pred.argmax(axis=-1)"
   ]
  },
  {
   "cell_type": "code",
   "execution_count": 25,
   "metadata": {},
   "outputs": [],
   "source": [
    "y_labels = []\n",
    "for item in y_classes:\n",
    "    if item == 1:\n",
    "        y_labels.append(\"SUPPORTS\")\n",
    "    else:\n",
    "        y_labels.append(\"REFUTES\")"
   ]
  },
  {
   "cell_type": "code",
   "execution_count": 26,
   "metadata": {},
   "outputs": [],
   "source": [
    "df[\"predicted_label\"] = y_labels"
   ]
  },
  {
   "cell_type": "code",
   "execution_count": 27,
   "metadata": {},
   "outputs": [
    {
     "data": {
      "text/plain": [
       "SUPPORTS    8114\n",
       "REFUTES     1968\n",
       "Name: predicted_label, dtype: int64"
      ]
     },
     "execution_count": 27,
     "metadata": {},
     "output_type": "execute_result"
    }
   ],
   "source": [
    "df.predicted_label.value_counts()"
   ]
  },
  {
   "cell_type": "code",
   "execution_count": 31,
   "metadata": {},
   "outputs": [],
   "source": [
    "df.to_csv(\"final_label_pred_keras.csv\",index=False)"
   ]
  },
  {
   "cell_type": "code",
   "execution_count": 32,
   "metadata": {
    "collapsed": true
   },
   "outputs": [
    {
     "ename": "AttributeError",
     "evalue": "'Model' object has no attribute 'history'",
     "output_type": "error",
     "traceback": [
      "\u001b[0;31m---------------------------------------------------------------------------\u001b[0m",
      "\u001b[0;31mAttributeError\u001b[0m                            Traceback (most recent call last)",
      "\u001b[0;32m<ipython-input-32-c063cf33e1e5>\u001b[0m in \u001b[0;36m<module>\u001b[0;34m\u001b[0m\n\u001b[0;32m----> 1\u001b[0;31m \u001b[0mr\u001b[0m \u001b[0;34m=\u001b[0m \u001b[0mmodel\u001b[0m\u001b[0;34m.\u001b[0m\u001b[0mhistory\u001b[0m\u001b[0;34m\u001b[0m\u001b[0m\n\u001b[0m",
      "\u001b[0;31mAttributeError\u001b[0m: 'Model' object has no attribute 'history'"
     ]
    }
   ],
   "source": [
    "r = model.history"
   ]
  },
  {
   "cell_type": "code",
   "execution_count": 31,
   "metadata": {},
   "outputs": [
    {
     "data": {
      "image/png": "[encoded data removed]",
      "text/plain": [
       "<Figure size 600x400 with 1 Axes>"
      ]
     },
     "metadata": {
      "needs_background": "light"
     },
     "output_type": "display_data"
    },
    {
     "data": {
      "image/png": "[encoded data removed]",
      "text/plain": [
       "<Figure size 600x400 with 1 Axes>"
      ]
     },
     "metadata": {
      "needs_background": "light"
     },
     "output_type": "display_data"
    }
   ],
   "source": [
    "plt.figure(dpi=100)\n",
    "plt.plot(r.history['loss'], label='loss')\n",
    "plt.plot(r.history['val_loss'], label='val_loss')\n",
    "plt.ylabel(\"Validation Loss\")\n",
    "plt.xlabel(\" Epochs \")\n",
    "plt.legend()\n",
    "#plt.savefig(\"loss.png\")\n",
    "plt.show()\n",
    "\n",
    "# accuracies\n",
    "plt.figure(dpi=100)\n",
    "plt.plot(r.history['acc'], label='acc')\n",
    "plt.plot(r.history['val_acc'], label='val_acc')\n",
    "plt.ylabel(\"Validation Accuracy\")\n",
    "plt.xlabel(\" Epochs \")\n",
    "plt.legend()\n",
    "#plt.savefig(\"acc.png\")\n",
    "plt.show()"
   ]
  },
  {
   "cell_type": "raw",
   "metadata": {},
   "source": [
    "model.evaluate(test_X,test_labels,batch_size=2)"
   ]
  },
  {
   "cell_type": "code",
   "execution_count": 36,
   "metadata": {},
   "outputs": [],
   "source": [
    "from keras.utils import plot_model\n",
    "from IPython.display import SVG\n",
    "from keras.utils.vis_utils import model_to_dot"
   ]
  },
  {
   "cell_type": "code",
   "execution_count": 37,
   "metadata": {},
   "outputs": [],
   "source": [
    "\n",
    "from ann_visualizer.visualize import ann_viz"
   ]
  },
  {
   "cell_type": "code",
   "execution_count": 42,
   "metadata": {},
   "outputs": [
    {
     "ename": "ImportError",
     "evalue": "Failed to import `pydot`. Please install `pydot`. For example with `pip install pydot`.",
     "output_type": "error",
     "traceback": [
      "\u001b[0;31m---------------------------------------------------------------------------\u001b[0m",
      "\u001b[0;31mImportError\u001b[0m                               Traceback (most recent call last)",
      "\u001b[0;32m<ipython-input-42-4611e438e727>\u001b[0m in \u001b[0;36m<module>\u001b[0;34m\u001b[0m\n\u001b[0;32m----> 1\u001b[0;31m \u001b[0mplot_model\u001b[0m\u001b[0;34m(\u001b[0m\u001b[0mmodel\u001b[0m\u001b[0;34m,\u001b[0m \u001b[0mshow_shapes\u001b[0m\u001b[0;34m=\u001b[0m\u001b[0;32mTrue\u001b[0m\u001b[0;34m,\u001b[0m \u001b[0mshow_layer_names\u001b[0m\u001b[0;34m=\u001b[0m\u001b[0;32mTrue\u001b[0m\u001b[0;34m,\u001b[0m \u001b[0mto_file\u001b[0m\u001b[0;34m=\u001b[0m\u001b[0;34m'model.png'\u001b[0m\u001b[0;34m)\u001b[0m\u001b[0;34m\u001b[0m\u001b[0m\n\u001b[0m\u001b[1;32m      2\u001b[0m \u001b[0;32mfrom\u001b[0m \u001b[0mIPython\u001b[0m\u001b[0;34m.\u001b[0m\u001b[0mdisplay\u001b[0m \u001b[0;32mimport\u001b[0m \u001b[0mImage\u001b[0m\u001b[0;34m\u001b[0m\u001b[0m\n\u001b[1;32m      3\u001b[0m \u001b[0mImage\u001b[0m\u001b[0;34m(\u001b[0m\u001b[0mretina\u001b[0m\u001b[0;34m=\u001b[0m\u001b[0;32mTrue\u001b[0m\u001b[0;34m,\u001b[0m \u001b[0mfilename\u001b[0m\u001b[0;34m=\u001b[0m\u001b[0;34m'model.png'\u001b[0m\u001b[0;34m)\u001b[0m\u001b[0;34m\u001b[0m\u001b[0m\n",
      "\u001b[0;32m~/.local/lib/python3.5/site-packages/keras/utils/vis_utils.py\u001b[0m in \u001b[0;36mplot_model\u001b[0;34m(model, to_file, show_shapes, show_layer_names, rankdir)\u001b[0m\n\u001b[1;32m    130\u001b[0m             \u001b[0;34m'LR'\u001b[0m \u001b[0mcreates\u001b[0m \u001b[0ma\u001b[0m \u001b[0mhorizontal\u001b[0m \u001b[0mplot\u001b[0m\u001b[0;34m.\u001b[0m\u001b[0;34m\u001b[0m\u001b[0m\n\u001b[1;32m    131\u001b[0m     \"\"\"\n\u001b[0;32m--> 132\u001b[0;31m     \u001b[0mdot\u001b[0m \u001b[0;34m=\u001b[0m \u001b[0mmodel_to_dot\u001b[0m\u001b[0;34m(\u001b[0m\u001b[0mmodel\u001b[0m\u001b[0;34m,\u001b[0m \u001b[0mshow_shapes\u001b[0m\u001b[0;34m,\u001b[0m \u001b[0mshow_layer_names\u001b[0m\u001b[0;34m,\u001b[0m \u001b[0mrankdir\u001b[0m\u001b[0;34m)\u001b[0m\u001b[0;34m\u001b[0m\u001b[0m\n\u001b[0m\u001b[1;32m    133\u001b[0m     \u001b[0m_\u001b[0m\u001b[0;34m,\u001b[0m \u001b[0mextension\u001b[0m \u001b[0;34m=\u001b[0m \u001b[0mos\u001b[0m\u001b[0;34m.\u001b[0m\u001b[0mpath\u001b[0m\u001b[0;34m.\u001b[0m\u001b[0msplitext\u001b[0m\u001b[0;34m(\u001b[0m\u001b[0mto_file\u001b[0m\u001b[0;34m)\u001b[0m\u001b[0;34m\u001b[0m\u001b[0m\n\u001b[1;32m    134\u001b[0m     \u001b[0;32mif\u001b[0m \u001b[0;32mnot\u001b[0m \u001b[0mextension\u001b[0m\u001b[0;34m:\u001b[0m\u001b[0;34m\u001b[0m\u001b[0m\n",
      "\u001b[0;32m~/.local/lib/python3.5/site-packages/keras/utils/vis_utils.py\u001b[0m in \u001b[0;36mmodel_to_dot\u001b[0;34m(model, show_shapes, show_layer_names, rankdir)\u001b[0m\n\u001b[1;32m     53\u001b[0m     \u001b[0;32mfrom\u001b[0m \u001b[0;34m.\u001b[0m\u001b[0;34m.\u001b[0m\u001b[0mmodels\u001b[0m \u001b[0;32mimport\u001b[0m \u001b[0mSequential\u001b[0m\u001b[0;34m\u001b[0m\u001b[0m\n\u001b[1;32m     54\u001b[0m \u001b[0;34m\u001b[0m\u001b[0m\n\u001b[0;32m---> 55\u001b[0;31m     \u001b[0m_check_pydot\u001b[0m\u001b[0;34m(\u001b[0m\u001b[0;34m)\u001b[0m\u001b[0;34m\u001b[0m\u001b[0m\n\u001b[0m\u001b[1;32m     56\u001b[0m     \u001b[0mdot\u001b[0m \u001b[0;34m=\u001b[0m \u001b[0mpydot\u001b[0m\u001b[0;34m.\u001b[0m\u001b[0mDot\u001b[0m\u001b[0;34m(\u001b[0m\u001b[0;34m)\u001b[0m\u001b[0;34m\u001b[0m\u001b[0m\n\u001b[1;32m     57\u001b[0m     \u001b[0mdot\u001b[0m\u001b[0;34m.\u001b[0m\u001b[0mset\u001b[0m\u001b[0;34m(\u001b[0m\u001b[0;34m'rankdir'\u001b[0m\u001b[0;34m,\u001b[0m \u001b[0mrankdir\u001b[0m\u001b[0;34m)\u001b[0m\u001b[0;34m\u001b[0m\u001b[0m\n",
      "\u001b[0;32m~/.local/lib/python3.5/site-packages/keras/utils/vis_utils.py\u001b[0m in \u001b[0;36m_check_pydot\u001b[0;34m()\u001b[0m\n\u001b[1;32m     18\u001b[0m     \u001b[0;32mif\u001b[0m \u001b[0mpydot\u001b[0m \u001b[0;32mis\u001b[0m \u001b[0;32mNone\u001b[0m\u001b[0;34m:\u001b[0m\u001b[0;34m\u001b[0m\u001b[0m\n\u001b[1;32m     19\u001b[0m         raise ImportError(\n\u001b[0;32m---> 20\u001b[0;31m             \u001b[0;34m'Failed to import `pydot`. '\u001b[0m\u001b[0;34m\u001b[0m\u001b[0m\n\u001b[0m\u001b[1;32m     21\u001b[0m             \u001b[0;34m'Please install `pydot`. '\u001b[0m\u001b[0;34m\u001b[0m\u001b[0m\n\u001b[1;32m     22\u001b[0m             'For example with `pip install pydot`.')\n",
      "\u001b[0;31mImportError\u001b[0m: Failed to import `pydot`. Please install `pydot`. For example with `pip install pydot`."
     ]
    }
   ],
   "source": [
    "plot_model(model, show_shapes=True, show_layer_names=True, to_file='model.png')\n",
    "from IPython.display import Image\n",
    "Image(retina=True, filename='model.png')"
   ]
  },
  {
   "cell_type": "code",
   "execution_count": null,
   "metadata": {},
   "outputs": [],
   "source": []
  },
  {
   "cell_type": "code",
   "execution_count": 25,
   "metadata": {},
   "outputs": [],
   "source": [
    " df = pd.read_csv(\"_test_concated_features.csv\")"
   ]
  },
  {
   "cell_type": "code",
   "execution_count": 26,
   "metadata": {},
   "outputs": [
    {
     "data": {
      "text/html": [
       "<div>\n",
       "<style scoped>\n",
       "    .dataframe tbody tr th:only-of-type {\n",
       "        vertical-align: middle;\n",
       "    }\n",
       "\n",
       "    .dataframe tbody tr th {\n",
       "        vertical-align: top;\n",
       "    }\n",
       "\n",
       "    .dataframe thead th {\n",
       "        text-align: right;\n",
       "    }\n",
       "</style>\n",
       "<table border=\"1\" class=\"dataframe\">\n",
       "  <thead>\n",
       "    <tr style=\"text-align: right;\">\n",
       "      <th></th>\n",
       "      <th>Unnamed: 0</th>\n",
       "      <th>ID</th>\n",
       "      <th>claim</th>\n",
       "      <th>evidence</th>\n",
       "      <th>label</th>\n",
       "      <th>Jacards_Similarity</th>\n",
       "      <th>Keywords_Similarity</th>\n",
       "      <th>common_keywords</th>\n",
       "      <th>LCS</th>\n",
       "    </tr>\n",
       "  </thead>\n",
       "  <tbody>\n",
       "    <tr>\n",
       "      <th>0</th>\n",
       "      <td>0</td>\n",
       "      <td>110000</td>\n",
       "      <td>Raven-Symoné is an Anglican.</td>\n",
       "      <td>Raven-Symoné Christina Pearman -LRB- -LSB- ˈre...</td>\n",
       "      <td>SUPPORTS</td>\n",
       "      <td>0.037037</td>\n",
       "      <td>0.331280</td>\n",
       "      <td>1</td>\n",
       "      <td>3</td>\n",
       "    </tr>\n",
       "    <tr>\n",
       "      <th>1</th>\n",
       "      <td>1</td>\n",
       "      <td>73397</td>\n",
       "      <td>Temple of the Dog celebrated the 37th annivers...</td>\n",
       "      <td>Temple of the Dog was an American rock band th...</td>\n",
       "      <td>SUPPORTS</td>\n",
       "      <td>0.058824</td>\n",
       "      <td>0.822379</td>\n",
       "      <td>4</td>\n",
       "      <td>9</td>\n",
       "    </tr>\n",
       "    <tr>\n",
       "      <th>2</th>\n",
       "      <td>2</td>\n",
       "      <td>16079</td>\n",
       "      <td>Solanum contains plants with ornamental flowers.</td>\n",
       "      <td>Solanum It also contains the nightshades and h...</td>\n",
       "      <td>SUPPORTS</td>\n",
       "      <td>0.444444</td>\n",
       "      <td>0.902835</td>\n",
       "      <td>4</td>\n",
       "      <td>4</td>\n",
       "    </tr>\n",
       "    <tr>\n",
       "      <th>3</th>\n",
       "      <td>3</td>\n",
       "      <td>114789</td>\n",
       "      <td>A Good Day to Die Hard is part of the Library ...</td>\n",
       "      <td>Die Hard with a Vengeance is a 1995 American a...</td>\n",
       "      <td>SUPPORTS</td>\n",
       "      <td>0.008696</td>\n",
       "      <td>0.827180</td>\n",
       "      <td>1</td>\n",
       "      <td>10</td>\n",
       "    </tr>\n",
       "    <tr>\n",
       "      <th>4</th>\n",
       "      <td>4</td>\n",
       "      <td>126871</td>\n",
       "      <td>The Icelandic Coast Guard is also known as Gae...</td>\n",
       "      <td>Net cutters , or trawlwire cutters were secret...</td>\n",
       "      <td>SUPPORTS</td>\n",
       "      <td>0.010638</td>\n",
       "      <td>0.853973</td>\n",
       "      <td>1</td>\n",
       "      <td>9</td>\n",
       "    </tr>\n",
       "  </tbody>\n",
       "</table>\n",
       "</div>"
      ],
      "text/plain": [
       "   Unnamed: 0      ID                                              claim  \\\n",
       "0           0  110000                       Raven-Symoné is an Anglican.   \n",
       "1           1   73397  Temple of the Dog celebrated the 37th annivers...   \n",
       "2           2   16079   Solanum contains plants with ornamental flowers.   \n",
       "3           3  114789  A Good Day to Die Hard is part of the Library ...   \n",
       "4           4  126871  The Icelandic Coast Guard is also known as Gae...   \n",
       "\n",
       "                                            evidence     label  \\\n",
       "0  Raven-Symoné Christina Pearman -LRB- -LSB- ˈre...  SUPPORTS   \n",
       "1  Temple of the Dog was an American rock band th...  SUPPORTS   \n",
       "2  Solanum It also contains the nightshades and h...  SUPPORTS   \n",
       "3  Die Hard with a Vengeance is a 1995 American a...  SUPPORTS   \n",
       "4  Net cutters , or trawlwire cutters were secret...  SUPPORTS   \n",
       "\n",
       "   Jacards_Similarity  Keywords_Similarity  common_keywords  LCS  \n",
       "0            0.037037             0.331280                1    3  \n",
       "1            0.058824             0.822379                4    9  \n",
       "2            0.444444             0.902835                4    4  \n",
       "3            0.008696             0.827180                1   10  \n",
       "4            0.010638             0.853973                1    9  "
      ]
     },
     "execution_count": 26,
     "metadata": {},
     "output_type": "execute_result"
    }
   ],
   "source": [
    "df.head()"
   ]
  },
  {
   "cell_type": "code",
   "execution_count": 27,
   "metadata": {},
   "outputs": [],
   "source": [
    "test_claims = list(df[\"claim\"])\n",
    "test_evidences = list(df[\"evidence\"])"
   ]
  },
  {
   "cell_type": "code",
   "execution_count": 28,
   "metadata": {},
   "outputs": [],
   "source": [
    "test_X = create_dataset(nlp, test_claims, test_evidences,100,shape[0])"
   ]
  },
  {
   "cell_type": "code",
   "execution_count": 29,
   "metadata": {},
   "outputs": [],
   "source": [
    "y_pred = model.predict(test_X,verbose=2)"
   ]
  },
  {
   "cell_type": "code",
   "execution_count": 30,
   "metadata": {},
   "outputs": [],
   "source": [
    "y_classes = y_pred.argmax(axis=-1)"
   ]
  },
  {
   "cell_type": "code",
   "execution_count": 31,
   "metadata": {},
   "outputs": [
    {
     "data": {
      "text/plain": [
       "array([1, 1, 1, ..., 1, 1, 1])"
      ]
     },
     "execution_count": 31,
     "metadata": {},
     "output_type": "execute_result"
    }
   ],
   "source": [
    "y_classes"
   ]
  },
  {
   "cell_type": "code",
   "execution_count": 32,
   "metadata": {},
   "outputs": [],
   "source": [
    "y_labels = []\n",
    "for item in y_classes:\n",
    "    if item == 1:\n",
    "        y_labels.append(\"SUPPORTS\")\n",
    "    else:\n",
    "        y_labels.append(\"REFUTES\")"
   ]
  },
  {
   "cell_type": "code",
   "execution_count": null,
   "metadata": {},
   "outputs": [],
   "source": []
  },
  {
   "cell_type": "code",
   "execution_count": 33,
   "metadata": {},
   "outputs": [],
   "source": [
    "df[\"label\"] = y_labels"
   ]
  },
  {
   "cell_type": "code",
   "execution_count": 34,
   "metadata": {},
   "outputs": [
    {
     "data": {
      "text/plain": [
       "SUPPORTS    10354\n",
       "REFUTES      1765\n",
       "Name: label, dtype: int64"
      ]
     },
     "execution_count": 34,
     "metadata": {},
     "output_type": "execute_result"
    }
   ],
   "source": [
    "df[\"label\"].value_counts()"
   ]
  },
  {
   "cell_type": "code",
   "execution_count": 35,
   "metadata": {},
   "outputs": [],
   "source": [
    "df.drop(\"Unnamed: 0\",axis=1,inplace=True)"
   ]
  },
  {
   "cell_type": "code",
   "execution_count": 36,
   "metadata": {},
   "outputs": [],
   "source": [
    "df.to_csv(\"_test_concated_features.csv\")"
   ]
  },
  {
   "cell_type": "code",
   "execution_count": null,
   "metadata": {},
   "outputs": [],
   "source": []
  }
 ],
 "metadata": {
  "kernelspec": {
   "display_name": "Python 3",
   "language": "python",
   "name": "python3"
  },
  "language_info": {
   "codemirror_mode": {
    "name": "ipython",
    "version": 3
   },
   "file_extension": ".py",
   "mimetype": "text/x-python",
   "name": "python",
   "nbconvert_exporter": "python",
   "pygments_lexer": "ipython3",
   "version": "3.5.5"
  },
  "toc": {
   "base_numbering": 1,
   "nav_menu": {},
   "number_sections": true,
   "sideBar": true,
   "skip_h1_title": false,
   "title_cell": "Table of Contents",
   "title_sidebar": "Contents",
   "toc_cell": false,
   "toc_position": {},
   "toc_section_display": true,
   "toc_window_display": false
  }
 },
 "nbformat": 4,
 "nbformat_minor": 2
}
