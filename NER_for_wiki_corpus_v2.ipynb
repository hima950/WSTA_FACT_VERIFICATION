{
 "cells": [
  {
   "cell_type": "code",
   "execution_count": 1,
   "metadata": {},
   "outputs": [],
   "source": [
    "import os\n",
    "import io\n",
    "import json\n",
    "from zipfile import ZipFile\n",
    "import unicodedata"
   ]
  },
  {
   "cell_type": "code",
   "execution_count": 2,
   "metadata": {},
   "outputs": [],
   "source": [
    "import re\n",
    "import xapian\n",
    "import pandas as pd\n",
    "from pandarallel import pandarallel\n",
    "import numpy as np"
   ]
  },
  {
   "cell_type": "code",
   "execution_count": 3,
   "metadata": {},
   "outputs": [],
   "source": [
    "pd.options.display.max_colwidth = 200"
   ]
  },
  {
   "cell_type": "code",
   "execution_count": 4,
   "metadata": {},
   "outputs": [],
   "source": [
    "OUTPUT_FOLDER = 'data/corpus'\n",
    "if not os.path.exists(OUTPUT_FOLDER):\n",
    "    os.mkdir(OUTPUT_FOLDER)"
   ]
  },
  {
   "cell_type": "code",
   "execution_count": 5,
   "metadata": {},
   "outputs": [],
   "source": [
    "import spacy\n",
    "import en_core_web_lg\n",
    "\n",
    "nlp = en_core_web_lg.load()\n",
    "def parse_with_spacy(text):\n",
    "    doc = nlp(text)\n",
    "    record = dict(\n",
    "        named_entities = [{'entity': span.text, 'label': span.label_, 'root': span.root.text} for span in doc.ents],\n",
    "        noun_phrases = [{'noun_phrase': span.text, 'root': span.root.text} for span in doc.noun_chunks]\n",
    "    )\n",
    "    return record"
   ]
  },
  {
   "cell_type": "markdown",
   "metadata": {},
   "source": [
    "def preprocess_ner(s):\n",
    "    s = re.sub(\"^(The|the|A|a|An|an)\\s\", \"\", s)\n",
    "    s = re.sub(\"\\s\", \"_\", s) \n",
    "    return s\n",
    "\n",
    "def obtain_nouns(v):\n",
    "    ents = {preprocess_ner(item['entity']) for item in v['named_entities']}\n",
    "    ents = {preprocess_ner(item['entity']) for item in v['named_entities']}\n",
    "    nps = {preprocess_ner(item['noun_phrase']) for item in v['noun_phrases']}\n",
    "    return ents.union(nps)"
   ]
  },
  {
   "cell_type": "markdown",
   "metadata": {},
   "source": [
    "# Extract Named Entities from WIKI corpus"
   ]
  },
  {
   "cell_type": "code",
   "execution_count": 6,
   "metadata": {},
   "outputs": [],
   "source": [
    "zf = ZipFile(\"wiki-pages-text.zip\")"
   ]
  },
  {
   "cell_type": "code",
   "execution_count": 7,
   "metadata": {},
   "outputs": [
    {
     "data": {
      "text/plain": [
       "(110, 'wiki-pages-text/wiki-009.txt')"
      ]
     },
     "execution_count": 7,
     "metadata": {},
     "output_type": "execute_result"
    }
   ],
   "source": [
    "files = [item.filename for item in zf.filelist]\n",
    "len(files), files[1]"
   ]
  },
  {
   "cell_type": "code",
   "execution_count": 8,
   "metadata": {},
   "outputs": [],
   "source": [
    "def read_shard(zf, path):\n",
    "    items = []\n",
    "    fp = zf.open(path, mode='r')\n",
    "    tfp = io.TextIOWrapper(fp)\n",
    "    nlines = 0\n",
    "    for line in tfp.readlines():\n",
    "        nlines += 1\n",
    "        \n",
    "        line = unicodedata.normalize('NFD', line)\n",
    "        match = re.match(\"(\\S+)\\s(\\d+)\\s(.*)\\n\", line)\n",
    "        if match:\n",
    "            items.append(match.groups())\n",
    "        else:\n",
    "            #print(line)\n",
    "            pass\n",
    "    fp.close()\n",
    "    tfp.close()\n",
    "    return items#, nlines"
   ]
  },
  {
   "cell_type": "code",
   "execution_count": 9,
   "metadata": {},
   "outputs": [],
   "source": [
    "def read_shard_as_df(zf, path):\n",
    "    items = read_shard(zf, path)\n",
    "    raw_df = pd.DataFrame(data=items, columns=['doc_id', 'sentence', 'text'])\n",
    "    func = lambda x: \" \".join(x)\n",
    "    return raw_df.groupby('doc_id')['text'].agg(func)"
   ]
  },
  {
   "cell_type": "code",
   "execution_count": 10,
   "metadata": {},
   "outputs": [],
   "source": [
    "#items, nlines = read_shard(zf, files[1])\n",
    "#len(items), nlines, items[0]\n",
    "path = files[1]"
   ]
  },
  {
   "cell_type": "code",
   "execution_count": 11,
   "metadata": {},
   "outputs": [
    {
     "name": "stdout",
     "output_type": "stream",
     "text": [
      "New pandarallel memory created - Size: 2000 MB\n",
      "Pandarallel will run on 6 workers\n"
     ]
    }
   ],
   "source": [
    "pandarallel.initialize(progress_bar=False, nb_workers=6)"
   ]
  },
  {
   "cell_type": "code",
   "execution_count": null,
   "metadata": {},
   "outputs": [
    {
     "name": "stdout",
     "output_type": "stream",
     "text": [
      "wiki-pages-text/wiki-001.txt\n",
      "wiki-pages-text/wiki-002.txt\n",
      "wiki-pages-text/wiki-003.txt\n",
      "wiki-pages-text/wiki-004.txt\n",
      "wiki-pages-text/wiki-005.txt\n",
      "wiki-pages-text/wiki-006.txt\n",
      "wiki-pages-text/wiki-007.txt\n",
      "wiki-pages-text/wiki-008.txt\n"
     ]
    }
   ],
   "source": [
    "%%time\n",
    "for path in sorted(files[1:]):\n",
    "    print(path)\n",
    "    \n",
    "    items = read_shard(zf, path)\n",
    "\n",
    "    raw_df = pd.DataFrame(data=items, columns=['doc_id', 'sentence', 'text'])\n",
    "    raw_df['sentence'] = raw_df.sentence.astype(int)\n",
    "    \n",
    "    raw_df['text'] =  raw_df.text.apply(lambda s: re.sub(\"-LRB-\", \"(\", s))\n",
    "    raw_df['text'] =  raw_df.text.apply(lambda s: re.sub(\"-LSB-\", \"[\", s))\n",
    "    raw_df['text'] =  raw_df.text.apply(lambda s: re.sub(\"-RRB-\", \")\", s))\n",
    "    raw_df['text'] =  raw_df.text.apply(lambda s: re.sub(\"-RSB-\", \"]\", s))\n",
    "    \n",
    "    doc_df = raw_df.groupby('doc_id')[['text']].agg(lambda x: \" \".join(x))\n",
    "    doc_df['text'] =  doc_df.text.apply(lambda s: re.sub(\"\\(\\s\", \"(\", s))\n",
    "    doc_df['text'] =  doc_df.text.apply(lambda s: re.sub(\"\\[\\s\", \"[\", s))\n",
    "    doc_df['text'] =  doc_df.text.apply(lambda s: re.sub(\"\\s\\)\", \")\", s))\n",
    "    doc_df['text'] =  doc_df.text.apply(lambda s: re.sub(\"\\s\\]\", \"]\", s))\n",
    "    doc_df['text'] =  doc_df.text.apply(lambda s: re.sub(\"\\s,\", \",\", s))\n",
    "    doc_df['text'] =  doc_df.text.apply(lambda s: re.sub(\"\\s--\\s\", \"-\", s))\n",
    "    doc_df['text'] =  doc_df.text.apply(lambda s: re.sub(\"\\s\\`\\s\", \"\\s\", s))\n",
    "    doc_df['text'] =  doc_df.text.apply(lambda s: re.sub(\"\\s\\\"\\s\", \"\\s\", s))\n",
    "    doc_df['text'] =  doc_df.text.apply(lambda s: re.sub(\"\\s\\'\\s\", \"\\s\", s))\n",
    "    doc_df['text'] =  doc_df.text.apply(lambda s: re.sub(\"\\s\\'\", \"\\'\", s))\n",
    "    \n",
    "\n",
    "    def get_page_header(s):\n",
    "        #doc = nlp(s)\n",
    "        #return nlp(\" \".join([item.text for item in doc[:100]]))\n",
    "        return \" \".join(s.split(\" \")[:50])\n",
    "    \n",
    "    doc_df['header'] = doc_df.text.apply(get_page_header)\n",
    "    doc_df['parsed_text'] = doc_df.header.parallel_apply(parse_with_spacy)\n",
    "    \n",
    "    shard = \"\"\n",
    "    m = re.match(\".*wiki-(\\d+).txt\", path)\n",
    "    if m: shard = m.groups()[0]   \n",
    "\n",
    "    doc_df[['parsed_text']].to_json('{}/{}.json'.format(OUTPUT_FOLDER, shard), orient='split')"
   ]
  },
  {
   "cell_type": "code",
   "execution_count": null,
   "metadata": {},
   "outputs": [],
   "source": []
  },
  {
   "cell_type": "code",
   "execution_count": null,
   "metadata": {},
   "outputs": [],
   "source": []
  },
  {
   "cell_type": "code",
   "execution_count": null,
   "metadata": {},
   "outputs": [],
   "source": [
    "raw_df['text_length'] = raw_df.text.apply(len)\n",
    "raw_df['words_count'] = raw_df.text.apply(lambda x: len([item for item in x.split(\" \") if item.isalpha()]))"
   ]
  },
  {
   "cell_type": "code",
   "execution_count": null,
   "metadata": {},
   "outputs": [],
   "source": [
    "bad_sentences_mask = (raw_df.text_length < 40) & (raw_df.words_count < 3)\n",
    "raw_df = raw_df[~bad_sentences_mask]"
   ]
  },
  {
   "cell_type": "code",
   "execution_count": null,
   "metadata": {},
   "outputs": [],
   "source": [
    "raw_df[raw_df.words_count == 3].head()"
   ]
  },
  {
   "cell_type": "code",
   "execution_count": null,
   "metadata": {},
   "outputs": [],
   "source": [
    "    \n",
    "    first_sentences_df = raw_df[raw_df.sentence == 0].set_index('doc_id')\n",
    "\n",
    "\n",
    "    first_sentences_df['text'] =  first_sentences_df.text.apply(lambda s: re.sub(\"(\\s\", \"(\", s))\n",
    "    first_sentences_df['text'] =  first_sentences_df.text.apply(lambda s: re.sub(\"[\\s\", \"[\", s))\n",
    "    first_sentences_df['text'] =  first_sentences_df.text.apply(lambda s: re.sub(\"\\s)\", \")\", s))\n",
    "    first_sentences_df['text'] =  first_sentences_df.text.apply(lambda s: re.sub(\"\\s]\", \"]\", s))\n",
    "    first_sentences_df['text'] =  first_sentences_df.text.apply(lambda s: re.sub(\"\\s,\", \",\", s))\n",
    "    first_sentences_df['text'] =  first_sentences_df.text.apply(lambda s: re.sub(\"\\s--\\s\", \"-\", s))\n",
    "    first_sentences_df['text'] =  first_sentences_df.text.apply(lambda s: re.sub(\"\\s\\`\\s\", \"\\s\", s))\n",
    "    first_sentences_df['text'] =  first_sentences_df.text.apply(lambda s: re.sub(\"\\s\\\"\\s\", \"\\s\", s))\n",
    "    first_sentences_df['text'] =  first_sentences_df.text.apply(lambda s: re.sub(\"\\s\\'\\s\", \"\\s\", s))\n",
    "    first_sentences_df['text'] =  first_sentences_df.text.apply(lambda s: re.sub(\"\\s\\'\", \"\\'\", s))\n",
    "    \n",
    "    first_sentences_df['parsed_text'] = first_sentences_df.text.apply(parse_with_spacy)\n",
    "\n",
    "    shard = \"\"\n",
    "    m = re.match(\".*wiki-(\\d+).*\", path)\n",
    "    if m: shard = m[1]\n",
    "\n",
    "    first_sentences_df.to_json('data/corpus/{}.json'.format(shard), orient='split')"
   ]
  },
  {
   "cell_type": "code",
   "execution_count": null,
   "metadata": {},
   "outputs": [],
   "source": []
  },
  {
   "cell_type": "code",
   "execution_count": null,
   "metadata": {},
   "outputs": [],
   "source": [
    "%%time\n",
    "first_sentences_df['entities'] = first_sentences_df.parsed_text.apply(obtain_nouns)"
   ]
  },
  {
   "cell_type": "code",
   "execution_count": null,
   "metadata": {},
   "outputs": [],
   "source": [
    "first_sentences_df.sample(100)"
   ]
  },
  {
   "cell_type": "code",
   "execution_count": null,
   "metadata": {},
   "outputs": [],
   "source": []
  }
 ],
 "metadata": {
  "hide_input": false,
  "kernelspec": {
   "display_name": "Python 3",
   "language": "python",
   "name": "python3"
  },
  "language_info": {
   "codemirror_mode": {
    "name": "ipython",
    "version": 3
   },
   "file_extension": ".py",
   "mimetype": "text/x-python",
   "name": "python",
   "nbconvert_exporter": "python",
   "pygments_lexer": "ipython3",
   "version": "3.5.2"
  },
  "toc": {
   "nav_menu": {},
   "number_sections": true,
   "sideBar": true,
   "skip_h1_title": false,
   "toc_cell": false,
   "toc_position": {},
   "toc_section_display": true,
   "toc_window_display": true
  }
 },
 "nbformat": 4,
 "nbformat_minor": 2
}
