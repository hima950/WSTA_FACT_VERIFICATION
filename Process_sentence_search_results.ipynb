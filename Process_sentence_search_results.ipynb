{
 "cells": [
  {
   "cell_type": "code",
   "execution_count": 1,
   "metadata": {},
   "outputs": [],
   "source": [
    "import re\n",
    "import xapian\n",
    "import pandas as pd\n",
    "import numpy as np\n",
    "import csv"
   ]
  },
  {
   "cell_type": "code",
   "execution_count": 2,
   "metadata": {},
   "outputs": [],
   "source": [
    "import json"
   ]
  },
  {
   "cell_type": "code",
   "execution_count": 3,
   "metadata": {},
   "outputs": [],
   "source": [
    "import matplotlib.pyplot as plt\n",
    "%matplotlib inline"
   ]
  },
  {
   "cell_type": "code",
   "execution_count": 4,
   "metadata": {},
   "outputs": [],
   "source": [
    "pd.options.display.max_colwidth = 200\n",
    "pd.options.display.precision = 2"
   ]
  },
  {
   "cell_type": "code",
   "execution_count": 5,
   "metadata": {},
   "outputs": [],
   "source": [
    "#SOURCES = ['dev', 'train', 'test']\n",
    "SOURCES = ['dev']\n",
    "#SOURCES = ['test']\n",
    "#SOURCES = ['train']\n",
    "SEARCH_RESULT_PATH = \"data/search_results_v5_{}.csv\".format(SOURCES[0])"
   ]
  },
  {
   "cell_type": "markdown",
   "metadata": {},
   "source": [
    "# Analyse Found Sentences"
   ]
  },
  {
   "cell_type": "markdown",
   "metadata": {},
   "source": [
    "## Read Claims"
   ]
  },
  {
   "cell_type": "code",
   "execution_count": 6,
   "metadata": {},
   "outputs": [],
   "source": [
    "claims_df = pd.read_csv('data/claims.csv', index_col='claim_id')\n",
    "claims_df = claims_df[claims_df.source.isin(SOURCES)]"
   ]
  },
  {
   "cell_type": "code",
   "execution_count": 7,
   "metadata": {},
   "outputs": [],
   "source": [
    "labelled_claims_df = pd.read_json('data/l_claims.json')\n",
    "labelled_claims_df.index.name = 'claim_id'\n",
    "labelled_claims_df = labelled_claims_df[labelled_claims_df.source.isin(SOURCES)]"
   ]
  },
  {
   "cell_type": "code",
   "execution_count": 8,
   "metadata": {},
   "outputs": [
    {
     "data": {
      "text/plain": [
       "('Total Supporting Sentences', 5702)"
      ]
     },
     "execution_count": 8,
     "metadata": {},
     "output_type": "execute_result"
    }
   ],
   "source": [
    "gld_ev_sent_count = labelled_claims_df.evidence_sentence_count.sum()\n",
    "('Total Supporting Sentences', gld_ev_sent_count)"
   ]
  },
  {
   "cell_type": "code",
   "execution_count": 9,
   "metadata": {},
   "outputs": [
    {
     "data": {
      "text/plain": [
       "('Total Supporting Documents', 4040)"
      ]
     },
     "execution_count": 9,
     "metadata": {},
     "output_type": "execute_result"
    }
   ],
   "source": [
    "gld_ev_doc_count = labelled_claims_df.evidence_doc_count.sum()\n",
    "('Total Supporting Documents', gld_ev_doc_count)"
   ]
  },
  {
   "cell_type": "markdown",
   "metadata": {},
   "source": [
    "## Read search results"
   ]
  },
  {
   "cell_type": "code",
   "execution_count": 10,
   "metadata": {},
   "outputs": [],
   "source": [
    "import unicodedata"
   ]
  },
  {
   "cell_type": "code",
   "execution_count": 11,
   "metadata": {},
   "outputs": [],
   "source": [
    "results_df = pd.read_csv(SEARCH_RESULT_PATH)\n",
    "normalise = lambda item: unicodedata.normalize('NFD', item) if isinstance(item, str) else item\n",
    "results_df['found_doc'] = results_df['found_doc'].apply(normalise)\n",
    "#results_df.set_index('claim_id', inplace=True)"
   ]
  },
  {
   "cell_type": "code",
   "execution_count": 12,
   "metadata": {},
   "outputs": [],
   "source": [
    "#results_df = results_df.sample(int(1e6))"
   ]
  },
  {
   "cell_type": "code",
   "execution_count": 13,
   "metadata": {},
   "outputs": [
    {
     "name": "stdout",
     "output_type": "stream",
     "text": [
      "<class 'pandas.core.frame.DataFrame'>\n",
      "RangeIndex: 500100 entries, 0 to 500099\n",
      "Data columns (total 7 columns):\n",
      "claim_id       500100 non-null int64\n",
      "found_doc      500100 non-null object\n",
      "sentence_id    500100 non-null int64\n",
      "text           500100 non-null object\n",
      "rank           500100 non-null int64\n",
      "percentage     500100 non-null int64\n",
      "weight         500100 non-null float64\n",
      "dtypes: float64(1), int64(4), object(2)\n",
      "memory usage: 26.7+ MB\n"
     ]
    }
   ],
   "source": [
    "results_df.info()"
   ]
  },
  {
   "cell_type": "code",
   "execution_count": 15,
   "metadata": {},
   "outputs": [],
   "source": [
    "results_df = results_df.join(claims_df.claim, on='claim_id')"
   ]
  },
  {
   "cell_type": "code",
   "execution_count": 16,
   "metadata": {},
   "outputs": [],
   "source": [
    "golden_evidence = {(claim_id, evidence[0], evidence[1]) \n",
    "                        for claim_id, item in labelled_claims_df.evidence.items() \\\n",
    "                        for evidence in item\n",
    "                  }"
   ]
  },
  {
   "cell_type": "code",
   "execution_count": 17,
   "metadata": {},
   "outputs": [],
   "source": [
    "#results_df.head(100)"
   ]
  },
  {
   "cell_type": "code",
   "execution_count": 18,
   "metadata": {},
   "outputs": [],
   "source": [
    "sentence_col = 'sentence_id'\n",
    "#sentence_col = 'sent_id'\n",
    "cols = ['claim_id', 'found_doc', sentence_col]\n",
    "func = lambda v: (v['claim_id'], v['found_doc'], v[sentence_col]) in golden_evidence\n",
    "results_df['label'] = results_df[cols].apply(func, axis=1)"
   ]
  },
  {
   "cell_type": "code",
   "execution_count": 19,
   "metadata": {},
   "outputs": [
    {
     "data": {
      "text/html": [
       "<div>\n",
       "<style scoped>\n",
       "    .dataframe tbody tr th:only-of-type {\n",
       "        vertical-align: middle;\n",
       "    }\n",
       "\n",
       "    .dataframe tbody tr th {\n",
       "        vertical-align: top;\n",
       "    }\n",
       "\n",
       "    .dataframe thead th {\n",
       "        text-align: right;\n",
       "    }\n",
       "</style>\n",
       "<table border=\"1\" class=\"dataframe\">\n",
       "  <thead>\n",
       "    <tr style=\"text-align: right;\">\n",
       "      <th></th>\n",
       "      <th>claim_id</th>\n",
       "      <th>found_doc</th>\n",
       "      <th>sentence_id</th>\n",
       "      <th>text</th>\n",
       "      <th>rank</th>\n",
       "      <th>percentage</th>\n",
       "      <th>weight</th>\n",
       "      <th>claim</th>\n",
       "      <th>label</th>\n",
       "    </tr>\n",
       "  </thead>\n",
       "  <tbody>\n",
       "    <tr>\n",
       "      <th>0</th>\n",
       "      <td>12</td>\n",
       "      <td>Carlos_Santana_Live</td>\n",
       "      <td>0</td>\n",
       "      <td>Carlos Santana Live is a 2004 live album by guitarist Carlos Santana , released with Santana as a solo performer .</td>\n",
       "      <td>1</td>\n",
       "      <td>50</td>\n",
       "      <td>40.01</td>\n",
       "      <td>Carlos Santana disbanded Santana in 1965.</td>\n",
       "      <td>False</td>\n",
       "    </tr>\n",
       "    <tr>\n",
       "      <th>1</th>\n",
       "      <td>12</td>\n",
       "      <td>Coke_Escovedo</td>\n",
       "      <td>19</td>\n",
       "      <td>During Carlos Santana 's transition period between the original and `` New '' Santana bands , Escovedo also performed with the Carlos Santana/Buddy Miles group , appearing on the 1972 release Carl...</td>\n",
       "      <td>2</td>\n",
       "      <td>47</td>\n",
       "      <td>37.77</td>\n",
       "      <td>Carlos Santana disbanded Santana in 1965.</td>\n",
       "      <td>False</td>\n",
       "    </tr>\n",
       "    <tr>\n",
       "      <th>2</th>\n",
       "      <td>12</td>\n",
       "      <td>Jorge_Santana</td>\n",
       "      <td>17</td>\n",
       "      <td>In 1994 he recorded an album with his brother and Carlos Santana 's nephew , Carlos Hernandez , called Santana Brothers .</td>\n",
       "      <td>3</td>\n",
       "      <td>47</td>\n",
       "      <td>37.70</td>\n",
       "      <td>Carlos Santana disbanded Santana in 1965.</td>\n",
       "      <td>False</td>\n",
       "    </tr>\n",
       "    <tr>\n",
       "      <th>3</th>\n",
       "      <td>12</td>\n",
       "      <td>Santana</td>\n",
       "      <td>2</td>\n",
       "      <td>Santana -LRB- band -RRB- , rock band featuring guitarist Carlos Santana</td>\n",
       "      <td>4</td>\n",
       "      <td>46</td>\n",
       "      <td>37.46</td>\n",
       "      <td>Carlos Santana disbanded Santana in 1965.</td>\n",
       "      <td>False</td>\n",
       "    </tr>\n",
       "    <tr>\n",
       "      <th>4</th>\n",
       "      <td>12</td>\n",
       "      <td>Carlos_Alves</td>\n",
       "      <td>5</td>\n",
       "      <td>Carlos Santana -LRB- Carlos Augusto Alves Santana , born 1947 -RRB- , American musician</td>\n",
       "      <td>5</td>\n",
       "      <td>46</td>\n",
       "      <td>37.21</td>\n",
       "      <td>Carlos Santana disbanded Santana in 1965.</td>\n",
       "      <td>False</td>\n",
       "    </tr>\n",
       "  </tbody>\n",
       "</table>\n",
       "</div>"
      ],
      "text/plain": [
       "   claim_id            found_doc  sentence_id  \\\n",
       "0        12  Carlos_Santana_Live            0   \n",
       "1        12        Coke_Escovedo           19   \n",
       "2        12        Jorge_Santana           17   \n",
       "3        12              Santana            2   \n",
       "4        12         Carlos_Alves            5   \n",
       "\n",
       "                                                                                                                                                                                                      text  \\\n",
       "0                                                                                       Carlos Santana Live is a 2004 live album by guitarist Carlos Santana , released with Santana as a solo performer .   \n",
       "1  During Carlos Santana 's transition period between the original and `` New '' Santana bands , Escovedo also performed with the Carlos Santana/Buddy Miles group , appearing on the 1972 release Carl...   \n",
       "2                                                                                In 1994 he recorded an album with his brother and Carlos Santana 's nephew , Carlos Hernandez , called Santana Brothers .   \n",
       "3                                                                                                                                  Santana -LRB- band -RRB- , rock band featuring guitarist Carlos Santana   \n",
       "4                                                                                                                  Carlos Santana -LRB- Carlos Augusto Alves Santana , born 1947 -RRB- , American musician   \n",
       "\n",
       "   rank  percentage  weight                                      claim  label  \n",
       "0     1          50   40.01  Carlos Santana disbanded Santana in 1965.  False  \n",
       "1     2          47   37.77  Carlos Santana disbanded Santana in 1965.  False  \n",
       "2     3          47   37.70  Carlos Santana disbanded Santana in 1965.  False  \n",
       "3     4          46   37.46  Carlos Santana disbanded Santana in 1965.  False  \n",
       "4     5          46   37.21  Carlos Santana disbanded Santana in 1965.  False  "
      ]
     },
     "execution_count": 19,
     "metadata": {},
     "output_type": "execute_result"
    }
   ],
   "source": [
    "results_df.head()"
   ]
  },
  {
   "cell_type": "code",
   "execution_count": 20,
   "metadata": {},
   "outputs": [
    {
     "data": {
      "text/plain": [
       "(500100, 2769, 49.0)"
      ]
     },
     "execution_count": 20,
     "metadata": {},
     "output_type": "execute_result"
    }
   ],
   "source": [
    "evidence_count = results_df[results_df['rank'] <= 5].label.sum()\n",
    "results_df.shape[0], evidence_count, round(evidence_count / gld_ev_sent_count * 100)"
   ]
  },
  {
   "cell_type": "code",
   "execution_count": 14,
   "metadata": {},
   "outputs": [
    {
     "ename": "AttributeError",
     "evalue": "'DataFrame' object has no attribute 'label'",
     "output_type": "error",
     "traceback": [
      "\u001b[0;31m---------------------------------------------------------------------------\u001b[0m",
      "\u001b[0;31mAttributeError\u001b[0m                            Traceback (most recent call last)",
      "\u001b[0;32m<ipython-input-14-0babee58ab9a>\u001b[0m in \u001b[0;36m<module>\u001b[0;34m()\u001b[0m\n\u001b[0;32m----> 1\u001b[0;31m \u001b[0mresults_df\u001b[0m\u001b[0;34m.\u001b[0m\u001b[0mlabel\u001b[0m \u001b[0;34m=\u001b[0m \u001b[0mresults_df\u001b[0m\u001b[0;34m.\u001b[0m\u001b[0mlabel\u001b[0m\u001b[0;34m.\u001b[0m\u001b[0mastype\u001b[0m\u001b[0;34m(\u001b[0m\u001b[0mint\u001b[0m\u001b[0;34m)\u001b[0m\u001b[0;34m\u001b[0m\u001b[0;34m\u001b[0m\u001b[0m\n\u001b[0m\u001b[1;32m      2\u001b[0m \u001b[0mresults_df\u001b[0m\u001b[0;34m[\u001b[0m\u001b[0;34m'sentence_symbols_count'\u001b[0m\u001b[0;34m]\u001b[0m \u001b[0;34m=\u001b[0m \u001b[0mresults_df\u001b[0m\u001b[0;34m.\u001b[0m\u001b[0mtext\u001b[0m\u001b[0;34m.\u001b[0m\u001b[0mapply\u001b[0m\u001b[0;34m(\u001b[0m\u001b[0mlen\u001b[0m\u001b[0;34m)\u001b[0m\u001b[0;34m\u001b[0m\u001b[0;34m\u001b[0m\u001b[0m\n\u001b[1;32m      3\u001b[0m \u001b[0mresults_df\u001b[0m\u001b[0;34m[\u001b[0m\u001b[0;34m'sentence_tokens_count'\u001b[0m\u001b[0;34m]\u001b[0m \u001b[0;34m=\u001b[0m \u001b[0mresults_df\u001b[0m\u001b[0;34m.\u001b[0m\u001b[0mtext\u001b[0m\u001b[0;34m.\u001b[0m\u001b[0mapply\u001b[0m\u001b[0;34m(\u001b[0m\u001b[0;32mlambda\u001b[0m \u001b[0mx\u001b[0m\u001b[0;34m:\u001b[0m \u001b[0mlen\u001b[0m\u001b[0;34m(\u001b[0m\u001b[0mx\u001b[0m\u001b[0;34m.\u001b[0m\u001b[0msplit\u001b[0m\u001b[0;34m(\u001b[0m\u001b[0;34m' '\u001b[0m\u001b[0;34m)\u001b[0m\u001b[0;34m)\u001b[0m\u001b[0;34m)\u001b[0m\u001b[0;34m\u001b[0m\u001b[0;34m\u001b[0m\u001b[0m\n",
      "\u001b[0;32m/anaconda/lib/python3.6/site-packages/pandas/core/generic.py\u001b[0m in \u001b[0;36m__getattr__\u001b[0;34m(self, name)\u001b[0m\n\u001b[1;32m   5065\u001b[0m             \u001b[0;32mif\u001b[0m \u001b[0mself\u001b[0m\u001b[0;34m.\u001b[0m\u001b[0m_info_axis\u001b[0m\u001b[0;34m.\u001b[0m\u001b[0m_can_hold_identifiers_and_holds_name\u001b[0m\u001b[0;34m(\u001b[0m\u001b[0mname\u001b[0m\u001b[0;34m)\u001b[0m\u001b[0;34m:\u001b[0m\u001b[0;34m\u001b[0m\u001b[0;34m\u001b[0m\u001b[0m\n\u001b[1;32m   5066\u001b[0m                 \u001b[0;32mreturn\u001b[0m \u001b[0mself\u001b[0m\u001b[0;34m[\u001b[0m\u001b[0mname\u001b[0m\u001b[0;34m]\u001b[0m\u001b[0;34m\u001b[0m\u001b[0;34m\u001b[0m\u001b[0m\n\u001b[0;32m-> 5067\u001b[0;31m             \u001b[0;32mreturn\u001b[0m \u001b[0mobject\u001b[0m\u001b[0;34m.\u001b[0m\u001b[0m__getattribute__\u001b[0m\u001b[0;34m(\u001b[0m\u001b[0mself\u001b[0m\u001b[0;34m,\u001b[0m \u001b[0mname\u001b[0m\u001b[0;34m)\u001b[0m\u001b[0;34m\u001b[0m\u001b[0;34m\u001b[0m\u001b[0m\n\u001b[0m\u001b[1;32m   5068\u001b[0m \u001b[0;34m\u001b[0m\u001b[0m\n\u001b[1;32m   5069\u001b[0m     \u001b[0;32mdef\u001b[0m \u001b[0m__setattr__\u001b[0m\u001b[0;34m(\u001b[0m\u001b[0mself\u001b[0m\u001b[0;34m,\u001b[0m \u001b[0mname\u001b[0m\u001b[0;34m,\u001b[0m \u001b[0mvalue\u001b[0m\u001b[0;34m)\u001b[0m\u001b[0;34m:\u001b[0m\u001b[0;34m\u001b[0m\u001b[0;34m\u001b[0m\u001b[0m\n",
      "\u001b[0;31mAttributeError\u001b[0m: 'DataFrame' object has no attribute 'label'"
     ]
    }
   ],
   "source": [
    "results_df.label = results_df.label.astype(int)\n",
    "results_df['sentence_symbols_count'] = results_df.text.apply(len)\n",
    "results_df['sentence_tokens_count'] = results_df.text.apply(lambda x: len(x.split(' ')))"
   ]
  },
  {
   "cell_type": "code",
   "execution_count": 20,
   "metadata": {},
   "outputs": [],
   "source": [
    "def estimate_performance(df, param, generator, condition=\"gt\"):\n",
    "    results = []\n",
    "    for threshold in generator:\n",
    "        if condition == 'gt':\n",
    "            mask = df[param] >= threshold\n",
    "        else:\n",
    "            mask = df[param] <= threshold\n",
    "        true_positives = df[mask].label.sum()\n",
    "        items_count = df[mask].shape[0]\n",
    "        results.append((threshold, items_count, true_positives))\n",
    "\n",
    "    return pd.DataFrame(results, columns=['threshold', 'records_count', 'true_positives']).set_index('threshold')"
   ]
  },
  {
   "cell_type": "code",
   "execution_count": 52,
   "metadata": {},
   "outputs": [
    {
     "data": {
      "image/png": "[encoded data removed]",
      "text/plain": [
       "<Figure size 432x288 with 1 Axes>"
      ]
     },
     "metadata": {},
     "output_type": "display_data"
    },
    {
     "data": {
      "text/html": [
       "<div>\n",
       "<style scoped>\n",
       "    .dataframe tbody tr th:only-of-type {\n",
       "        vertical-align: middle;\n",
       "    }\n",
       "\n",
       "    .dataframe tbody tr th {\n",
       "        vertical-align: top;\n",
       "    }\n",
       "\n",
       "    .dataframe thead th {\n",
       "        text-align: right;\n",
       "    }\n",
       "</style>\n",
       "<table border=\"1\" class=\"dataframe\">\n",
       "  <thead>\n",
       "    <tr style=\"text-align: right;\">\n",
       "      <th></th>\n",
       "      <th>records_count</th>\n",
       "      <th>true_positives</th>\n",
       "      <th>recall</th>\n",
       "    </tr>\n",
       "    <tr>\n",
       "      <th>threshold</th>\n",
       "      <th></th>\n",
       "      <th></th>\n",
       "      <th></th>\n",
       "    </tr>\n",
       "  </thead>\n",
       "  <tbody>\n",
       "    <tr>\n",
       "      <th>1</th>\n",
       "      <td>5001</td>\n",
       "      <td>1798</td>\n",
       "      <td>31.5</td>\n",
       "    </tr>\n",
       "    <tr>\n",
       "      <th>2</th>\n",
       "      <td>10002</td>\n",
       "      <td>2271</td>\n",
       "      <td>39.8</td>\n",
       "    </tr>\n",
       "    <tr>\n",
       "      <th>3</th>\n",
       "      <td>15003</td>\n",
       "      <td>2517</td>\n",
       "      <td>44.1</td>\n",
       "    </tr>\n",
       "    <tr>\n",
       "      <th>4</th>\n",
       "      <td>20004</td>\n",
       "      <td>2656</td>\n",
       "      <td>46.6</td>\n",
       "    </tr>\n",
       "    <tr>\n",
       "      <th>5</th>\n",
       "      <td>25005</td>\n",
       "      <td>2769</td>\n",
       "      <td>48.6</td>\n",
       "    </tr>\n",
       "    <tr>\n",
       "      <th>6</th>\n",
       "      <td>30006</td>\n",
       "      <td>2853</td>\n",
       "      <td>50.0</td>\n",
       "    </tr>\n",
       "    <tr>\n",
       "      <th>7</th>\n",
       "      <td>35007</td>\n",
       "      <td>2936</td>\n",
       "      <td>51.5</td>\n",
       "    </tr>\n",
       "    <tr>\n",
       "      <th>8</th>\n",
       "      <td>40008</td>\n",
       "      <td>3006</td>\n",
       "      <td>52.7</td>\n",
       "    </tr>\n",
       "    <tr>\n",
       "      <th>9</th>\n",
       "      <td>45009</td>\n",
       "      <td>3058</td>\n",
       "      <td>53.6</td>\n",
       "    </tr>\n",
       "    <tr>\n",
       "      <th>10</th>\n",
       "      <td>50010</td>\n",
       "      <td>3103</td>\n",
       "      <td>54.4</td>\n",
       "    </tr>\n",
       "    <tr>\n",
       "      <th>11</th>\n",
       "      <td>55011</td>\n",
       "      <td>3152</td>\n",
       "      <td>55.3</td>\n",
       "    </tr>\n",
       "    <tr>\n",
       "      <th>12</th>\n",
       "      <td>60012</td>\n",
       "      <td>3208</td>\n",
       "      <td>56.3</td>\n",
       "    </tr>\n",
       "    <tr>\n",
       "      <th>13</th>\n",
       "      <td>65013</td>\n",
       "      <td>3253</td>\n",
       "      <td>57.1</td>\n",
       "    </tr>\n",
       "    <tr>\n",
       "      <th>14</th>\n",
       "      <td>70014</td>\n",
       "      <td>3302</td>\n",
       "      <td>57.9</td>\n",
       "    </tr>\n",
       "    <tr>\n",
       "      <th>15</th>\n",
       "      <td>75015</td>\n",
       "      <td>3335</td>\n",
       "      <td>58.5</td>\n",
       "    </tr>\n",
       "    <tr>\n",
       "      <th>16</th>\n",
       "      <td>80016</td>\n",
       "      <td>3371</td>\n",
       "      <td>59.1</td>\n",
       "    </tr>\n",
       "    <tr>\n",
       "      <th>17</th>\n",
       "      <td>85017</td>\n",
       "      <td>3406</td>\n",
       "      <td>59.7</td>\n",
       "    </tr>\n",
       "    <tr>\n",
       "      <th>18</th>\n",
       "      <td>90018</td>\n",
       "      <td>3423</td>\n",
       "      <td>60.0</td>\n",
       "    </tr>\n",
       "    <tr>\n",
       "      <th>19</th>\n",
       "      <td>95019</td>\n",
       "      <td>3455</td>\n",
       "      <td>60.6</td>\n",
       "    </tr>\n",
       "    <tr>\n",
       "      <th>20</th>\n",
       "      <td>100020</td>\n",
       "      <td>3480</td>\n",
       "      <td>61.0</td>\n",
       "    </tr>\n",
       "  </tbody>\n",
       "</table>\n",
       "</div>"
      ],
      "text/plain": [
       "           records_count  true_positives  recall\n",
       "threshold                                       \n",
       "1                   5001            1798    31.5\n",
       "2                  10002            2271    39.8\n",
       "3                  15003            2517    44.1\n",
       "4                  20004            2656    46.6\n",
       "5                  25005            2769    48.6\n",
       "6                  30006            2853    50.0\n",
       "7                  35007            2936    51.5\n",
       "8                  40008            3006    52.7\n",
       "9                  45009            3058    53.6\n",
       "10                 50010            3103    54.4\n",
       "11                 55011            3152    55.3\n",
       "12                 60012            3208    56.3\n",
       "13                 65013            3253    57.1\n",
       "14                 70014            3302    57.9\n",
       "15                 75015            3335    58.5\n",
       "16                 80016            3371    59.1\n",
       "17                 85017            3406    59.7\n",
       "18                 90018            3423    60.0\n",
       "19                 95019            3455    60.6\n",
       "20                100020            3480    61.0"
      ]
     },
     "execution_count": 52,
     "metadata": {},
     "output_type": "execute_result"
    }
   ],
   "source": [
    "df = estimate_performance(results_df, 'rank', range(1, 51, 1), condition='lt')\n",
    "df['recall'] = df.true_positives.apply(lambda x: round(x / float(gld_ev_sent_count) * 100, 1))\n",
    "df[['recall']].plot.line(title='Recall rate by Top')\n",
    "plt.show()\n",
    "df.head(20)"
   ]
  },
  {
   "cell_type": "code",
   "execution_count": 22,
   "metadata": {},
   "outputs": [
    {
     "data": {
      "image/png": "[encoded data removed]",
      "text/plain": [
       "<Figure size 432x288 with 1 Axes>"
      ]
     },
     "metadata": {},
     "output_type": "display_data"
    }
   ],
   "source": [
    "df = estimate_performance(results_df, 'weight', range(0, 31, 2))\n",
    "df['recall'] = df.true_positives.apply(lambda x: round(x / float(gld_ev_sent_count) * 100, 1))\n",
    "df[['recall']].plot.line(title='Recall rate by minimum BM25 weight')\n",
    "plt.show()"
   ]
  },
  {
   "cell_type": "code",
   "execution_count": 23,
   "metadata": {},
   "outputs": [
    {
     "data": {
      "image/png": "[encoded data removed]",
      "text/plain": [
       "<Figure size 432x288 with 1 Axes>"
      ]
     },
     "metadata": {},
     "output_type": "display_data"
    }
   ],
   "source": [
    "df = estimate_performance(results_df, 'percentage', range(5, 101, 5))\n",
    "df['recall'] = df.true_positives.apply(lambda x: round(x / float(gld_ev_sent_count) * 100, 1))\n",
    "df[['recall']].plot.line(title='Recall rate by minimum match percentage')\n",
    "plt.show()"
   ]
  },
  {
   "cell_type": "markdown",
   "metadata": {},
   "source": [
    "df = estimate_performance(results_df, 'sentence_symbols_count', range(20, 500, 10))\n",
    "df['recall'] = df.true_positives.apply(lambda x: round(x / float(gld_ev_sent_count) * 100, 1))\n",
    "df[['recall']].plot.line(title='Recall rate by minimum symbols length')\n",
    "plt.show()\n",
    "df.head(10)"
   ]
  },
  {
   "cell_type": "markdown",
   "metadata": {},
   "source": [
    "df = estimate_performance(results_df, 'sentence_tokens_count', range(0, 75, 1))\n",
    "df['recall'] = df.true_positives.apply(lambda x: round(x / float(gld_ev_sent_count) * 100, 1))\n",
    "df[['recall']].plot.line(title='Recall rate by minimum tokens length')\n",
    "plt.show()\n",
    "df.head(10)"
   ]
  },
  {
   "cell_type": "markdown",
   "metadata": {},
   "source": [
    "## Prepare submission"
   ]
  },
  {
   "cell_type": "code",
   "execution_count": 24,
   "metadata": {},
   "outputs": [],
   "source": [
    "results_df['evidence'] = results_df.apply(lambda v: (v['found_doc'], v[sentence_col]), axis=1)\n",
    "\n",
    "mask = (results_df['rank'] <= 5)\n",
    "submission_df = results_df[mask][['claim_id', 'evidence']]\n",
    "submission_df = submission_df.groupby('claim_id').agg(list)\n",
    "submission_df = submission_df.join(claims_df.claim)\n",
    "submission_df['label'] = \"SUPPORTS\""
   ]
  },
  {
   "cell_type": "code",
   "execution_count": 25,
   "metadata": {},
   "outputs": [],
   "source": [
    "submission_df.to_json('testoutput.json', orient='index')"
   ]
  },
  {
   "cell_type": "code",
   "execution_count": 26,
   "metadata": {},
   "outputs": [
    {
     "name": "stdout",
     "output_type": "stream",
     "text": [
      "Error processing line 2 of /anaconda/lib/python3.6/site-packages/gapic_google_cloud_datastore_v1-0.15.3-py3.6-nspkg.pth:\n",
      "\n",
      "  Traceback (most recent call last):\n",
      "    File \"/anaconda/lib/python3.6/site.py\", line 168, in addpackage\n",
      "      exec(line)\n",
      "    File \"<string>\", line 1, in <module>\n",
      "  KeyError: 'google'\n",
      "\n",
      "Remainder of file ignored\n",
      "Label Accuracy \t\t33.33%\n",
      "Sentence Precision \t16.61%\n",
      "Sentence Recall \t67.09%\n",
      "Sentence F1 \t\t26.63%\n",
      "Document Precision \t25.28%\n",
      "Document Recall \t77.83%\n",
      "Document F1 \t\t38.17%\n"
     ]
    }
   ],
   "source": [
    "!python score.py devset.json testoutput.json"
   ]
  },
  {
   "cell_type": "code",
   "execution_count": 44,
   "metadata": {},
   "outputs": [
    {
     "data": {
      "text/plain": [
       "{('Edgar_Wright', 0),\n",
       " ('Edgar_Wright', 1),\n",
       " ('Edgar_Wright', 2),\n",
       " ('Edgar_Wright', 5),\n",
       " ('Edgar_Wright', 6),\n",
       " ('Edgar_Wright', 7)}"
      ]
     },
     "execution_count": 44,
     "metadata": {},
     "output_type": "execute_result"
    }
   ],
   "source": [
    "arecord = [['Edgar_Wright', 6], ['Edgar_Wright', 5], ['Edgar_Wright', 2], ['Edgar_Wright', 1], ['Edgar_Wright', 0], ['Edgar_Wright', 7]]\n",
    "\n",
    "{(doc_id, sent_id) for doc_id, sent_id in arecord}"
   ]
  },
  {
   "cell_type": "code",
   "execution_count": 17,
   "metadata": {},
   "outputs": [
    {
     "name": "stdout",
     "output_type": "stream",
     "text": [
      "Label Accuracy \t\t33.33%\n",
      "Sentence Precision \t16.61%\n",
      "Sentence Recall \t67.09%\n",
      "Sentence F1 \t\t26.63%\n",
      "Document Precision \t25.04%\n",
      "Document Recall \t77.83%\n",
      "Document F1 \t\t37.89%\n"
     ]
    }
   ],
   "source": [
    "import json\n",
    "import sys\n",
    "\n",
    "NEI = 'NOT ENOUGH INFO'\n",
    "actual = json.load(open('devset.json'))\n",
    "predicted = json.load(open('testoutput.json'))\n",
    "\n",
    "correct_label = num_instances = 0\n",
    "evidence_prec = num_eprec = 0\n",
    "evidence_recall = num_erec = 0\n",
    "doc_prec = num_dprec = 0\n",
    "doc_rec = num_drec = 0\n",
    "\n",
    "for ident, arecord in actual.items():\n",
    "    precord = predicted[ident]\n",
    "\n",
    "    alabel = arecord['label'].upper()\n",
    "    plabel = precord['label'].upper()\n",
    "    if alabel == plabel:\n",
    "        correct_label += 1\n",
    "    num_instances += 1\n",
    "\n",
    "    if alabel != NEI:\n",
    "        prec = prec_hits = 0\n",
    "        #rec = \n",
    "        rec_hits = 0\n",
    "\n",
    "        aes = {(doc_id, sent_id) for doc_id, sent_id in arecord['evidence']}\n",
    "        pes = {(doc_id, sent_id) for doc_id, sent_id in precord['evidence'][:5]}\n",
    "        #print()\n",
    "        for pe in pes:\n",
    "            #print(pe )\n",
    "            if pe in aes:\n",
    "                prec += 1\n",
    "            prec_hits += 1\n",
    "\n",
    "        for ae in aes:\n",
    "            #if ae in pes:\n",
    "            #    rec += 1\n",
    "            rec_hits += 1\n",
    "\n",
    "        #assert prec == rec\n",
    "        #print(aes)\n",
    "        ads = set(map(lambda ds: ds[0], aes))\n",
    "        #print(ads)\n",
    "        last_pd = None\n",
    "        dp = ndp = 0\n",
    "        for pe in pes:\n",
    "            if not last_pd or pe[0] != last_pd:\n",
    "                if pe[0] in ads:\n",
    "                    dp += 1\n",
    "                ndp += 1\n",
    "            last_pd = pe[0]\n",
    "\n",
    "        pds = set(map(lambda ds: ds[0], pes))\n",
    "        dr = ndr = 0\n",
    "        for ae in ads:\n",
    "            if ae in pds:\n",
    "                dr += 1\n",
    "            ndr += 1\n",
    "\n",
    "        if prec_hits > 0:\n",
    "            evidence_prec += float(prec) / prec_hits\n",
    "            num_eprec += 1\n",
    "\n",
    "        if ndp > 0:\n",
    "            doc_prec += float(dp) / ndp\n",
    "            num_dprec += 1\n",
    "\n",
    "        assert rec_hits > 0\n",
    "        evidence_recall += float(prec) / rec_hits\n",
    "        num_erec += 1\n",
    "\n",
    "        assert ndr > 0\n",
    "        doc_rec += float(dr) / ndr\n",
    "        num_drec += 1\n",
    "\n",
    "\n",
    "accuracy = correct_label / float(num_instances)\n",
    "print('Label Accuracy', '\\t\\t%.2f%%' % (100 * accuracy))\n",
    "\n",
    "precision = evidence_prec / float(num_eprec) if num_eprec != 0 else 0\n",
    "recall = evidence_recall / float(num_erec) if num_erec != 0 else 0\n",
    "f1 = 2 * precision * recall / (precision + recall) if precision + recall > 0 else 0\n",
    "print('Sentence Precision', '\\t%.2f%%' % (100 * precision))\n",
    "print('Sentence Recall', '\\t%.2f%%' % (100 * recall))\n",
    "print('Sentence F1', '\\t\\t%.2f%%' % (100 * f1))\n",
    "\n",
    "doc_precision = doc_prec / float(num_dprec) if num_dprec != 0 else 0\n",
    "doc_recall = doc_rec / float(num_drec) if num_drec != 0 else 0\n",
    "doc_f1 = 2 * doc_precision * doc_recall / (doc_precision + doc_recall) if doc_precision + doc_recall > 0 else 0\n",
    "print('Document Precision', '\\t%.2f%%' % (100 * doc_precision))\n",
    "print('Document Recall', '\\t%.2f%%' % (100 * doc_recall))\n",
    "print('Document F1', '\\t\\t%.2f%%' % (100 * doc_f1))"
   ]
  },
  {
   "cell_type": "code",
   "execution_count": 18,
   "metadata": {},
   "outputs": [
    {
     "data": {
      "text/plain": [
       "3"
      ]
     },
     "execution_count": 18,
     "metadata": {},
     "output_type": "execute_result"
    }
   ],
   "source": [
    "rec_hits"
   ]
  },
  {
   "cell_type": "code",
   "execution_count": null,
   "metadata": {},
   "outputs": [],
   "source": [
    "n"
   ]
  }
 ],
 "metadata": {
  "hide_input": false,
  "kernelspec": {
   "display_name": "Python 3",
   "language": "python",
   "name": "python3"
  },
  "language_info": {
   "codemirror_mode": {
    "name": "ipython",
    "version": 3
   },
   "file_extension": ".py",
   "mimetype": "text/x-python",
   "name": "python",
   "nbconvert_exporter": "python",
   "pygments_lexer": "ipython3",
   "version": "3.6.7"
  },
  "toc": {
   "nav_menu": {},
   "number_sections": true,
   "sideBar": true,
   "skip_h1_title": false,
   "toc_cell": false,
   "toc_position": {},
   "toc_section_display": true,
   "toc_window_display": true
  }
 },
 "nbformat": 4,
 "nbformat_minor": 2
}
