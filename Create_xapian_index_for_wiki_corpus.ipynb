{
 "cells": [
  {
   "cell_type": "code",
   "execution_count": null,
   "metadata": {},
   "outputs": [],
   "source": [
    "import os\n",
    "import io\n",
    "from zipfile import ZipFile"
   ]
  },
  {
   "cell_type": "code",
   "execution_count": 23,
   "metadata": {},
   "outputs": [],
   "source": [
    "import shutil"
   ]
  },
  {
   "cell_type": "code",
   "execution_count": 25,
   "metadata": {},
   "outputs": [],
   "source": [
    "import re\n",
    "import xapian\n",
    "import pandas as pd"
   ]
  },
  {
   "cell_type": "markdown",
   "metadata": {},
   "source": [
    "# Create the Schema and Build the sckeleton of index"
   ]
  },
  {
   "cell_type": "code",
   "execution_count": 72,
   "metadata": {},
   "outputs": [],
   "source": [
    "#folder_path = \"index\"\n",
    "#if os.path.exists(folder_path):\n",
    "#    shutil.rmtree(folder_path, ignore_errors=False, onerror=None)\n",
    "#os.mkdir(folder_path)"
   ]
  },
  {
   "cell_type": "code",
   "execution_count": 73,
   "metadata": {},
   "outputs": [],
   "source": [
    "dbpath = \"full_index\""
   ]
  },
  {
   "cell_type": "markdown",
   "metadata": {},
   "source": [
    "# Build Index"
   ]
  },
  {
   "cell_type": "code",
   "execution_count": 7,
   "metadata": {},
   "outputs": [],
   "source": [
    "zf = ZipFile(\"../wiki-pages-text.zip\")"
   ]
  },
  {
   "cell_type": "code",
   "execution_count": 8,
   "metadata": {},
   "outputs": [
    {
     "data": {
      "text/plain": [
       "110"
      ]
     },
     "execution_count": 8,
     "metadata": {},
     "output_type": "execute_result"
    }
   ],
   "source": [
    "files = [item.filename for item in zf.filelist]\n",
    "len(files)"
   ]
  },
  {
   "cell_type": "code",
   "execution_count": 67,
   "metadata": {},
   "outputs": [],
   "source": [
    "def read_shard(zf, path):\n",
    "    items = []\n",
    "    fp = zf.open(path, mode='r')\n",
    "    tfp = io.TextIOWrapper(fp)\n",
    "    for line in tfp.readlines():\n",
    "        match = re.match(\"(\\w+)\\s(\\d+)\\s(.*)\\n\", line)\n",
    "        if match:\n",
    "            items.append(match.groups())\n",
    "    fp.close()\n",
    "    tfp.close()\n",
    "    raw_df = pd.DataFrame(data=items, columns=['doc_id', 'sentence', 'text'])\n",
    "    func = lambda x: \" \".join(x)\n",
    "    return raw_df.groupby('doc_id')['text'].agg(func)"
   ]
  },
  {
   "cell_type": "code",
   "execution_count": 69,
   "metadata": {},
   "outputs": [
    {
     "name": "stdout",
     "output_type": "stream",
     "text": [
      "wiki-pages-text/wiki-009.txt\n",
      "wiki-pages-text/wiki-021.txt\n",
      "wiki-pages-text/wiki-035.txt\n",
      "wiki-pages-text/wiki-034.txt\n",
      "wiki-pages-text/wiki-020.txt\n",
      "wiki-pages-text/wiki-008.txt\n",
      "wiki-pages-text/wiki-036.txt\n",
      "wiki-pages-text/wiki-022.txt\n",
      "wiki-pages-text/wiki-023.txt\n",
      "wiki-pages-text/wiki-037.txt\n",
      "wiki-pages-text/wiki-033.txt\n",
      "wiki-pages-text/wiki-027.txt\n",
      "wiki-pages-text/wiki-026.txt\n",
      "wiki-pages-text/wiki-032.txt\n",
      "wiki-pages-text/wiki-024.txt\n",
      "wiki-pages-text/wiki-030.txt\n",
      "wiki-pages-text/wiki-018.txt\n",
      "wiki-pages-text/wiki-019.txt\n",
      "wiki-pages-text/wiki-031.txt\n",
      "wiki-pages-text/wiki-025.txt\n",
      "wiki-pages-text/wiki-042.txt\n",
      "wiki-pages-text/wiki-056.txt\n",
      "wiki-pages-text/wiki-081.txt\n",
      "wiki-pages-text/wiki-095.txt\n",
      "wiki-pages-text/wiki-094.txt\n",
      "wiki-pages-text/wiki-080.txt\n",
      "wiki-pages-text/wiki-057.txt\n",
      "wiki-pages-text/wiki-043.txt\n",
      "wiki-pages-text/wiki-069.txt\n",
      "wiki-pages-text/wiki-055.txt\n",
      "wiki-pages-text/wiki-041.txt\n",
      "wiki-pages-text/wiki-096.txt\n",
      "wiki-pages-text/wiki-082.txt\n",
      "wiki-pages-text/wiki-109.txt\n",
      "wiki-pages-text/wiki-108.txt\n",
      "wiki-pages-text/wiki-083.txt\n",
      "wiki-pages-text/wiki-097.txt\n",
      "wiki-pages-text/wiki-040.txt\n",
      "wiki-pages-text/wiki-054.txt\n",
      "wiki-pages-text/wiki-068.txt\n",
      "wiki-pages-text/wiki-050.txt\n",
      "wiki-pages-text/wiki-044.txt\n",
      "wiki-pages-text/wiki-078.txt\n",
      "wiki-pages-text/wiki-093.txt\n",
      "wiki-pages-text/wiki-087.txt\n",
      "wiki-pages-text/wiki-086.txt\n",
      "wiki-pages-text/wiki-092.txt\n",
      "wiki-pages-text/wiki-079.txt\n",
      "wiki-pages-text/wiki-045.txt\n",
      "wiki-pages-text/wiki-051.txt\n",
      "wiki-pages-text/wiki-047.txt\n",
      "wiki-pages-text/wiki-053.txt\n",
      "wiki-pages-text/wiki-084.txt\n",
      "wiki-pages-text/wiki-090.txt\n",
      "wiki-pages-text/wiki-091.txt\n",
      "wiki-pages-text/wiki-085.txt\n",
      "wiki-pages-text/wiki-052.txt\n",
      "wiki-pages-text/wiki-046.txt\n",
      "wiki-pages-text/wiki-063.txt\n",
      "wiki-pages-text/wiki-077.txt\n",
      "wiki-pages-text/wiki-088.txt\n",
      "wiki-pages-text/wiki-103.txt\n",
      "wiki-pages-text/wiki-102.txt\n",
      "wiki-pages-text/wiki-089.txt\n",
      "wiki-pages-text/wiki-076.txt\n",
      "wiki-pages-text/wiki-062.txt\n",
      "wiki-pages-text/wiki-048.txt\n",
      "wiki-pages-text/wiki-074.txt\n",
      "wiki-pages-text/wiki-060.txt\n",
      "wiki-pages-text/wiki-100.txt\n",
      "wiki-pages-text/wiki-101.txt\n",
      "wiki-pages-text/wiki-061.txt\n",
      "wiki-pages-text/wiki-075.txt\n",
      "wiki-pages-text/wiki-049.txt\n",
      "wiki-pages-text/wiki-071.txt\n",
      "wiki-pages-text/wiki-065.txt\n",
      "wiki-pages-text/wiki-059.txt\n",
      "wiki-pages-text/wiki-105.txt\n",
      "wiki-pages-text/wiki-104.txt\n",
      "wiki-pages-text/wiki-058.txt\n",
      "wiki-pages-text/wiki-064.txt\n",
      "wiki-pages-text/wiki-070.txt\n",
      "wiki-pages-text/wiki-066.txt\n",
      "wiki-pages-text/wiki-072.txt\n",
      "wiki-pages-text/wiki-099.txt\n",
      "wiki-pages-text/wiki-106.txt\n",
      "wiki-pages-text/wiki-107.txt\n",
      "wiki-pages-text/wiki-098.txt\n",
      "wiki-pages-text/wiki-073.txt\n",
      "wiki-pages-text/wiki-067.txt\n",
      "wiki-pages-text/wiki-028.txt\n",
      "wiki-pages-text/wiki-014.txt\n",
      "wiki-pages-text/wiki-015.txt\n",
      "wiki-pages-text/wiki-001.txt\n",
      "wiki-pages-text/wiki-029.txt\n",
      "wiki-pages-text/wiki-017.txt\n",
      "wiki-pages-text/wiki-003.txt\n",
      "wiki-pages-text/wiki-002.txt\n",
      "wiki-pages-text/wiki-016.txt\n",
      "wiki-pages-text/wiki-012.txt\n",
      "wiki-pages-text/wiki-006.txt\n",
      "wiki-pages-text/wiki-007.txt\n",
      "wiki-pages-text/wiki-013.txt\n",
      "wiki-pages-text/wiki-005.txt\n",
      "wiki-pages-text/wiki-011.txt\n",
      "wiki-pages-text/wiki-039.txt\n",
      "wiki-pages-text/wiki-038.txt\n",
      "wiki-pages-text/wiki-010.txt\n",
      "wiki-pages-text/wiki-004.txt\n",
      "CPU times: user 41min 43s, sys: 40min 33s, total: 1h 22min 16s\n",
      "Wall time: 1h 42min 36s\n"
     ]
    }
   ],
   "source": [
    "%%time\n",
    "# Create or open the database we're going to be writing to.\n",
    "db = xapian.WritableDatabase(dbpath, xapian.DB_CREATE_OR_OPEN)\n",
    "\n",
    "# Set up a TermGenerator that we'll use in indexing.\n",
    "termgenerator = xapian.TermGenerator()\n",
    "termgenerator.set_stemmer(xapian.Stem(\"en\"))\n",
    "\n",
    "for path in sorted(files[1:]):\n",
    "    print(path)\n",
    "    documents_df = read_shard(zf, path)\n",
    "    for doc_id, text in documents_df.items():\n",
    "        # We make a document and tell the term generator to use this.\n",
    "        doc = xapian.Document()\n",
    "        termgenerator.set_document(doc)\n",
    "\n",
    "        # Index each field with a suitable prefix.\n",
    "        termgenerator.index_text(doc_id, 1, 'S')\n",
    "        #termgenerator.index_text(description, 1, 'XD')\n",
    "\n",
    "        # Index fields without prefixes for general search.\n",
    "        termgenerator.index_text(text)\n",
    "        termgenerator.increase_termpos()\n",
    "        #termgenerator.index_text(description)\n",
    "\n",
    "        # We use the identifier to ensure each object ends up in the\n",
    "        # database only once no matter how many times we run the\n",
    "        # indexer.\n",
    "        idterm = u\"Q\" + doc_id\n",
    "        doc.add_boolean_term(idterm)\n",
    "        db.replace_document(idterm, doc)\n",
    "db.commit()"
   ]
  },
  {
   "cell_type": "code",
   "execution_count": 70,
   "metadata": {},
   "outputs": [],
   "source": [
    "db.close()"
   ]
  },
  {
   "cell_type": "code",
   "execution_count": 71,
   "metadata": {},
   "outputs": [
    {
     "name": "stdout",
     "output_type": "stream",
     "text": [
      "UUID = b940719a-3fb5-4d57-8b01-3186790b1ade\r\n",
      "number of documents = 3833466\r\n",
      "average document length = 170.939\r\n",
      "document length lower bound = 1\r\n",
      "document length upper bound = 31154\r\n",
      "highest document id ever used = 3833466\r\n",
      "has positional information = true\r\n",
      "revision = 392\r\n",
      "currently open for writing = false\r\n"
     ]
    }
   ],
   "source": [
    "!xapian-delve $dbpath"
   ]
  },
  {
   "cell_type": "markdown",
   "metadata": {},
   "source": [
    "# Query Index"
   ]
  },
  {
   "cell_type": "code",
   "execution_count": 109,
   "metadata": {},
   "outputs": [],
   "source": [
    "def search(dbpath, querystring, offset=0, pagesize=10):\n",
    "    # offset - defines starting point within result set\n",
    "    # pagesize - defines number of records to retrieve\n",
    "\n",
    "    # Open the database we're going to search.\n",
    "    db = xapian.Database(dbpath)\n",
    "\n",
    "    # Set up a QueryParser with a stemmer and suitable prefixes\n",
    "    queryparser = xapian.QueryParser()\n",
    "    queryparser.set_stemmer(xapian.Stem(\"en\"))\n",
    "    queryparser.set_stemming_strategy(queryparser.STEM_SOME)\n",
    "    # Start of prefix configuration.\n",
    "    queryparser.add_prefix(\"title\", \"S\")\n",
    "    #queryparser.add_prefix(\"description\", \"XD\")\n",
    "    # End of prefix configuration.\n",
    "\n",
    "    # And parse the query\n",
    "    query = queryparser.parse_query(querystring)\n",
    "\n",
    "    # Use an Enquire object on the database to run the query\n",
    "    enquire = xapian.Enquire(db)\n",
    "    enquire.set_query(query)\n",
    "\n",
    "    # And print out something about each match\n",
    "    matches = []\n",
    "    for match in enquire.get_mset(offset, pagesize):\n",
    "        #fields = json.loads(match.document.get_data())\n",
    "        print(u\"{rank}:  #{docid} {weight}\".format(rank=match.rank + 1,\n",
    "            docid=match.docid,\n",
    "            weight=match.weight\n",
    "            #'title': \"\", # fields.get('TITLE', u''),\n",
    "            ))\n",
    "        matches.append(match)\n",
    "    return matches"
   ]
  },
  {
   "cell_type": "code",
   "execution_count": 110,
   "metadata": {},
   "outputs": [
    {
     "name": "stdout",
     "output_type": "stream",
     "text": [
      "1:  #290771 36.334455075257004\n",
      "2:  #1833129 22.554101782575767\n",
      "3:  #2694195 22.07625491199836\n",
      "4:  #2213441 21.626374102687926\n",
      "5:  #1884464 18.547556188185897\n",
      "6:  #752650 18.040562388801664\n",
      "7:  #1636705 18.025709976962716\n",
      "8:  #218024 17.94392412974872\n",
      "9:  #3525993 17.707174950928362\n",
      "10:  #520098 17.525034614551657\n"
     ]
    }
   ],
   "source": [
    "query = \"Chris Hemsworth appeared in A Perfect Getaway\"\n",
    "matches = search(dbpath, query)"
   ]
  },
  {
   "cell_type": "code",
   "execution_count": 128,
   "metadata": {},
   "outputs": [],
   "source": [
    "match = matches[-1]\n",
    "for term in match.document.termlist():\n",
    "    #print(term.term)\n",
    "    pass"
   ]
  },
  {
   "cell_type": "code",
   "execution_count": 127,
   "metadata": {},
   "outputs": [],
   "source": [
    "for item in match.document:\n",
    "    pass\n",
    "    #print(item.term)"
   ]
  }
 ],
 "metadata": {
  "hide_input": false,
  "kernelspec": {
   "display_name": "Python 3",
   "language": "python",
   "name": "python3"
  },
  "language_info": {
   "codemirror_mode": {
    "name": "ipython",
    "version": 3
   },
   "file_extension": ".py",
   "mimetype": "text/x-python",
   "name": "python",
   "nbconvert_exporter": "python",
   "pygments_lexer": "ipython3",
   "version": "3.6.4"
  },
  "toc": {
   "nav_menu": {},
   "number_sections": true,
   "sideBar": true,
   "skip_h1_title": false,
   "toc_cell": false,
   "toc_position": {},
   "toc_section_display": true,
   "toc_window_display": false
  }
 },
 "nbformat": 4,
 "nbformat_minor": 2
}
