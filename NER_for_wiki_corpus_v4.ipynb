{
 "cells": [
  {
   "cell_type": "code",
   "execution_count": 1,
   "metadata": {},
   "outputs": [],
   "source": [
    "import os\n",
    "import io\n",
    "import json\n",
    "from zipfile import ZipFile\n",
    "import unicodedata"
   ]
  },
  {
   "cell_type": "code",
   "execution_count": 2,
   "metadata": {},
   "outputs": [],
   "source": [
    "import re\n",
    "import xapian\n",
    "import pandas as pd\n",
    "import numpy as np"
   ]
  },
  {
   "cell_type": "code",
   "execution_count": 3,
   "metadata": {},
   "outputs": [],
   "source": [
    "pd.options.display.max_colwidth = 100"
   ]
  },
  {
   "cell_type": "code",
   "execution_count": 4,
   "metadata": {},
   "outputs": [],
   "source": [
    "import spacy\n",
    "import en_core_web_lg\n",
    "\n",
    "nlp = en_core_web_lg.load()\n",
    "def parse_with_spacy(text):\n",
    "    doc = nlp(text)\n",
    "    record = dict(\n",
    "        named_entities = [{'entity': span.text, 'label': span.label_, 'root': span.root.text} for span in doc.ents],\n",
    "        noun_phrases = [{'noun_phrase': span.text, 'root': span.root.text} for span in doc.noun_chunks]\n",
    "    )\n",
    "    return record"
   ]
  },
  {
   "cell_type": "markdown",
   "metadata": {},
   "source": [
    "# Extract Named Entities from WIKI corpus"
   ]
  },
  {
   "cell_type": "code",
   "execution_count": 5,
   "metadata": {},
   "outputs": [],
   "source": [
    "with open('data/top_00-10_docs.json', 'r') as fp:\n",
    "    target_pages = set(json.load(fp))"
   ]
  },
  {
   "cell_type": "code",
   "execution_count": 6,
   "metadata": {},
   "outputs": [
    {
     "data": {
      "text/plain": [
       "364894"
      ]
     },
     "execution_count": 6,
     "metadata": {},
     "output_type": "execute_result"
    }
   ],
   "source": [
    "len(target_pages)#, target_pages"
   ]
  },
  {
   "cell_type": "code",
   "execution_count": 7,
   "metadata": {},
   "outputs": [],
   "source": [
    "zf = ZipFile(\"../wiki-pages-text.zip\")"
   ]
  },
  {
   "cell_type": "code",
   "execution_count": 8,
   "metadata": {},
   "outputs": [
    {
     "data": {
      "text/plain": [
       "(110, 'wiki-pages-text/wiki-009.txt')"
      ]
     },
     "execution_count": 8,
     "metadata": {},
     "output_type": "execute_result"
    }
   ],
   "source": [
    "files = [item.filename for item in zf.filelist]\n",
    "len(files), files[1]"
   ]
  },
  {
   "cell_type": "code",
   "execution_count": 9,
   "metadata": {},
   "outputs": [],
   "source": [
    "def read_shard(zf, path):\n",
    "    items = []\n",
    "    fp = zf.open(path, mode='r')\n",
    "    tfp = io.TextIOWrapper(fp)\n",
    "    nlines = 0\n",
    "    for line in tfp.readlines():\n",
    "        nlines += 1\n",
    "        \n",
    "        line = unicodedata.normalize('NFD', line)\n",
    "        match = re.match(\"(\\S+)\\s(\\d+)\\s(.*)\\n\", line)\n",
    "        if match:\n",
    "            items.append(match.groups())\n",
    "        else:\n",
    "            #print(line)\n",
    "            pass\n",
    "    fp.close()\n",
    "    tfp.close()\n",
    "    return items#, nlines"
   ]
  },
  {
   "cell_type": "code",
   "execution_count": 10,
   "metadata": {},
   "outputs": [],
   "source": [
    "#items, nlines = read_shard(zf, files[1])\n",
    "#len(items), nlines, items[0]\n",
    "path = files[1]"
   ]
  },
  {
   "cell_type": "code",
   "execution_count": 14,
   "metadata": {},
   "outputs": [
    {
     "name": "stdout",
     "output_type": "stream",
     "text": [
      "wiki-pages-text/wiki-010.txt\n",
      "CPU times: user 2min 53s, sys: 6.24 s, total: 2min 59s\n",
      "Wall time: 3min 7s\n"
     ]
    }
   ],
   "source": [
    "%%time\n",
    "for path in sorted(files[1:])[9:10]:\n",
    "    print(path)\n",
    "    items = read_shard(zf, path)\n",
    "\n",
    "    raw_df = pd.DataFrame(data=items, columns=['page_id', 'sentence', 'text'])\n",
    "    raw_df = raw_df[raw_df.page_id.isin(target_pages)]\n",
    "    raw_df.set_index('page_id', inplace=True)\n",
    "    \n",
    "    raw_df['sentence'] = raw_df.sentence.astype(int)\n",
    "    raw_df['text'] =  raw_df.text.apply(lambda s: re.sub(\"-LRB-\\s\", \"(\", s))\n",
    "    raw_df['text'] =  raw_df.text.apply(lambda s: re.sub(\"-LSB-\\s\", \"[\", s))\n",
    "    raw_df['text'] =  raw_df.text.apply(lambda s: re.sub(\"\\s-RRB-\", \")\", s))\n",
    "    raw_df['text'] =  raw_df.text.apply(lambda s: re.sub(\"\\s-RSB-\", \"]\", s))\n",
    "    raw_df['text'] =  raw_df.text.apply(lambda s: re.sub(\"\\s,\", \",\", s))\n",
    "    raw_df['text'] =  raw_df.text.apply(lambda s: re.sub(\"\\s.\", \".\", s))\n",
    "    raw_df['text'] =  raw_df.text.apply(lambda s: re.sub(\"\\s;\", \";\", s))\n",
    "    raw_df['text'] =  raw_df.text.apply(lambda s: re.sub(\"\\s--\\s\", \"-\", s))\n",
    "    raw_df['text'] =  raw_df.text.apply(lambda s: re.sub(\"\\s\\\"\\s\", \"\\s\", s))\n",
    "    raw_df['text'] =  raw_df.text.apply(lambda s: re.sub(\"\\s\\'\\s\", \"\\s\", s))\n",
    "    raw_df['text'] =  raw_df.text.apply(lambda s: re.sub(\"\\s\\`\\s\", \"\\s\", s))\n",
    "    raw_df['parsed_text'] = raw_df.text.apply(parse_with_spacy)\n",
    "\n",
    "    shard = \"\"\n",
    "    m = re.match(\".*wiki-(\\d+).*\", path)\n",
    "    if m: shard = m[1]\n",
    "\n",
    "    raw_df.to_json('data/corpus_sentences/{}.json'.format(shard), orient='split')"
   ]
  },
  {
   "cell_type": "code",
   "execution_count": null,
   "metadata": {},
   "outputs": [],
   "source": []
  }
 ],
 "metadata": {
  "hide_input": false,
  "kernelspec": {
   "display_name": "Python 3",
   "language": "python",
   "name": "python3"
  },
  "language_info": {
   "codemirror_mode": {
    "name": "ipython",
    "version": 3
   },
   "file_extension": ".py",
   "mimetype": "text/x-python",
   "name": "python",
   "nbconvert_exporter": "python",
   "pygments_lexer": "ipython3",
   "version": "3.6.7"
  },
  "toc": {
   "nav_menu": {},
   "number_sections": true,
   "sideBar": true,
   "skip_h1_title": false,
   "toc_cell": false,
   "toc_position": {},
   "toc_section_display": true,
   "toc_window_display": true
  }
 },
 "nbformat": 4,
 "nbformat_minor": 2
}
